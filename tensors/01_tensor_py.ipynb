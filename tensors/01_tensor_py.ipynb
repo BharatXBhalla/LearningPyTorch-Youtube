{
  "cells": [
    {
      "cell_type": "markdown",
      "metadata": {
        "id": "view-in-github",
        "colab_type": "text"
      },
      "source": [
        "<a href=\"https://colab.research.google.com/github/BharatXBhalla/LearningPyTorch-Youtube/blob/main/tensors/01_tensor_py.ipynb\" target=\"_parent\"><img src=\"https://colab.research.google.com/assets/colab-badge.svg\" alt=\"Open In Colab\"/></a>"
      ]
    },
    {
      "cell_type": "markdown",
      "id": "6a390293",
      "metadata": {
        "id": "6a390293"
      },
      "source": [
        "### Tensor"
      ]
    },
    {
      "cell_type": "code",
      "execution_count": 1,
      "id": "23a42028",
      "metadata": {
        "id": "23a42028"
      },
      "outputs": [],
      "source": [
        "import torch "
      ]
    },
    {
      "cell_type": "code",
      "execution_count": 2,
      "id": "11dca8ce",
      "metadata": {
        "colab": {
          "base_uri": "https://localhost:8080/"
        },
        "id": "11dca8ce",
        "outputId": "e9771f08-4cb3-421c-b07a-02969a6711ea"
      },
      "outputs": [
        {
          "output_type": "execute_result",
          "data": {
            "text/plain": [
              "tensor([28490.3750])"
            ]
          },
          "metadata": {},
          "execution_count": 2
        }
      ],
      "source": [
        "x = torch.empty(1)\n",
        "x"
      ]
    },
    {
      "cell_type": "code",
      "execution_count": 3,
      "id": "75890671",
      "metadata": {
        "colab": {
          "base_uri": "https://localhost:8080/"
        },
        "id": "75890671",
        "outputId": "c63c5cfd-0991-4e2a-d6fd-2cfd1af61b7e"
      },
      "outputs": [
        {
          "output_type": "execute_result",
          "data": {
            "text/plain": [
              "tensor([[[2.8491e+04, 3.0644e-41, 5.0447e-44],\n",
              "         [0.0000e+00,        nan, 0.0000e+00]],\n",
              "\n",
              "        [[1.3788e-14, 3.6423e-06, 2.0699e-19],\n",
              "         [3.3738e-12, 7.4086e+28, 6.9397e+22]]])"
            ]
          },
          "metadata": {},
          "execution_count": 3
        }
      ],
      "source": [
        "x = torch.empty(2,2,3)\n",
        "x"
      ]
    },
    {
      "cell_type": "code",
      "execution_count": 4,
      "id": "d7592da7",
      "metadata": {
        "colab": {
          "base_uri": "https://localhost:8080/"
        },
        "id": "d7592da7",
        "outputId": "e07af98b-4b57-4fe4-ac64-e5ac00ba298a"
      },
      "outputs": [
        {
          "output_type": "execute_result",
          "data": {
            "text/plain": [
              "tensor([[0.9799, 0.2709],\n",
              "        [0.6993, 0.4797]])"
            ]
          },
          "metadata": {},
          "execution_count": 4
        }
      ],
      "source": [
        "x = torch.rand(2,2)\n",
        "x"
      ]
    },
    {
      "cell_type": "code",
      "execution_count": 5,
      "id": "b0e2d6a1",
      "metadata": {
        "colab": {
          "base_uri": "https://localhost:8080/"
        },
        "id": "b0e2d6a1",
        "outputId": "8bf28252-c333-49f4-c572-bab08a18490a"
      },
      "outputs": [
        {
          "output_type": "execute_result",
          "data": {
            "text/plain": [
              "torch.float32"
            ]
          },
          "metadata": {},
          "execution_count": 5
        }
      ],
      "source": [
        "x.dtype"
      ]
    },
    {
      "cell_type": "code",
      "execution_count": 6,
      "id": "be92a8b7",
      "metadata": {
        "id": "be92a8b7"
      },
      "outputs": [],
      "source": [
        "x = torch.rand(2,2,dtype=torch.float16)"
      ]
    },
    {
      "cell_type": "code",
      "execution_count": 7,
      "id": "bb243322",
      "metadata": {
        "colab": {
          "base_uri": "https://localhost:8080/"
        },
        "id": "bb243322",
        "outputId": "f71b6603-39f2-4c76-b9b7-a56765714bac"
      },
      "outputs": [
        {
          "output_type": "execute_result",
          "data": {
            "text/plain": [
              "tensor([[0.3999, 0.0664],\n",
              "        [0.9072, 0.3291]], dtype=torch.float16)"
            ]
          },
          "metadata": {},
          "execution_count": 7
        }
      ],
      "source": [
        "x"
      ]
    },
    {
      "cell_type": "code",
      "execution_count": 8,
      "id": "ab10c4fb",
      "metadata": {
        "colab": {
          "base_uri": "https://localhost:8080/"
        },
        "id": "ab10c4fb",
        "outputId": "ee9521b8-c022-4c01-8692-469822554d8d"
      },
      "outputs": [
        {
          "output_type": "execute_result",
          "data": {
            "text/plain": [
              "torch.Size([2, 2])"
            ]
          },
          "metadata": {},
          "execution_count": 8
        }
      ],
      "source": [
        "x.size()"
      ]
    },
    {
      "cell_type": "markdown",
      "id": "e89d2e47",
      "metadata": {
        "id": "e89d2e47"
      },
      "source": [
        "### List to Tensor"
      ]
    },
    {
      "cell_type": "code",
      "execution_count": 9,
      "id": "2dd89685",
      "metadata": {
        "colab": {
          "base_uri": "https://localhost:8080/"
        },
        "id": "2dd89685",
        "outputId": "6e45794d-29ba-4c3a-de1c-8a5abddcfb83"
      },
      "outputs": [
        {
          "output_type": "execute_result",
          "data": {
            "text/plain": [
              "tensor([2.3000, 4.5000])"
            ]
          },
          "metadata": {},
          "execution_count": 9
        }
      ],
      "source": [
        "x = torch.tensor([2.3,4.5])\n",
        "x"
      ]
    },
    {
      "cell_type": "code",
      "execution_count": 10,
      "id": "54293f82",
      "metadata": {
        "id": "54293f82"
      },
      "outputs": [],
      "source": [
        "x = torch.rand(2,2)\n",
        "y = torch.rand(2,2)"
      ]
    },
    {
      "cell_type": "code",
      "execution_count": 11,
      "id": "f1112ca8",
      "metadata": {
        "colab": {
          "base_uri": "https://localhost:8080/"
        },
        "id": "f1112ca8",
        "outputId": "5bee4513-0e22-4c53-b85e-d0add4c28abd"
      },
      "outputs": [
        {
          "output_type": "execute_result",
          "data": {
            "text/plain": [
              "tensor([[0.8207, 0.6683],\n",
              "        [0.0936, 0.9649]])"
            ]
          },
          "metadata": {},
          "execution_count": 11
        }
      ],
      "source": [
        "x"
      ]
    },
    {
      "cell_type": "code",
      "execution_count": 12,
      "id": "e731f8c1",
      "metadata": {
        "colab": {
          "base_uri": "https://localhost:8080/"
        },
        "id": "e731f8c1",
        "outputId": "0f822def-359c-4547-ab1d-d0e3c932c7b6"
      },
      "outputs": [
        {
          "output_type": "execute_result",
          "data": {
            "text/plain": [
              "tensor([[0.8447, 0.5866],\n",
              "        [0.0866, 0.6760]])"
            ]
          },
          "metadata": {},
          "execution_count": 12
        }
      ],
      "source": [
        "y"
      ]
    },
    {
      "cell_type": "code",
      "execution_count": 13,
      "id": "ca70d2fe",
      "metadata": {
        "id": "ca70d2fe"
      },
      "outputs": [],
      "source": [
        "z = x+y"
      ]
    },
    {
      "cell_type": "code",
      "execution_count": 14,
      "id": "0432bf1d",
      "metadata": {
        "colab": {
          "base_uri": "https://localhost:8080/"
        },
        "id": "0432bf1d",
        "outputId": "58985eda-2cbb-4858-e232-03d76af34616"
      },
      "outputs": [
        {
          "output_type": "execute_result",
          "data": {
            "text/plain": [
              "tensor([[1.6654, 1.2549],\n",
              "        [0.1801, 1.6409]])"
            ]
          },
          "metadata": {},
          "execution_count": 14
        }
      ],
      "source": [
        "z"
      ]
    },
    {
      "cell_type": "code",
      "execution_count": 15,
      "id": "fad9d585",
      "metadata": {
        "colab": {
          "base_uri": "https://localhost:8080/"
        },
        "id": "fad9d585",
        "outputId": "d9e4e6df-a6b3-40c5-d540-def0952de7ae"
      },
      "outputs": [
        {
          "output_type": "execute_result",
          "data": {
            "text/plain": [
              "tensor([[1.6654, 1.2549],\n",
              "        [0.1801, 1.6409]])"
            ]
          },
          "metadata": {},
          "execution_count": 15
        }
      ],
      "source": [
        "y.add_(x) #inplace addition"
      ]
    },
    {
      "cell_type": "code",
      "execution_count": 16,
      "id": "09019151",
      "metadata": {
        "colab": {
          "base_uri": "https://localhost:8080/"
        },
        "id": "09019151",
        "outputId": "ca28ac58-71f8-45e5-aaec-9c6bbb7ac1ea"
      },
      "outputs": [
        {
          "output_type": "execute_result",
          "data": {
            "text/plain": [
              "tensor([[0., 0.],\n",
              "        [0., 0.]])"
            ]
          },
          "metadata": {},
          "execution_count": 16
        }
      ],
      "source": [
        "y.sub_(y)"
      ]
    },
    {
      "cell_type": "code",
      "execution_count": 17,
      "id": "8a90712e",
      "metadata": {
        "id": "8a90712e"
      },
      "outputs": [],
      "source": [
        "z = torch.mul(x,x)"
      ]
    },
    {
      "cell_type": "code",
      "execution_count": 18,
      "id": "17b5a0e1",
      "metadata": {
        "colab": {
          "base_uri": "https://localhost:8080/"
        },
        "id": "17b5a0e1",
        "outputId": "6a61ec9d-3d95-476e-8233-a0a401dd82a9"
      },
      "outputs": [
        {
          "output_type": "execute_result",
          "data": {
            "text/plain": [
              "tensor([[0.6736, 0.4466],\n",
              "        [0.0088, 0.9310]])"
            ]
          },
          "metadata": {},
          "execution_count": 18
        }
      ],
      "source": [
        "z"
      ]
    },
    {
      "cell_type": "code",
      "execution_count": 19,
      "id": "d089d1df",
      "metadata": {
        "colab": {
          "base_uri": "https://localhost:8080/"
        },
        "id": "d089d1df",
        "outputId": "db92d838-5d93-46f3-e40b-5a5da22cc80e"
      },
      "outputs": [
        {
          "output_type": "execute_result",
          "data": {
            "text/plain": [
              "tensor([[1., 1.],\n",
              "        [1., 1.]])"
            ]
          },
          "metadata": {},
          "execution_count": 19
        }
      ],
      "source": [
        "z/z"
      ]
    },
    {
      "cell_type": "code",
      "execution_count": 20,
      "id": "744ec6c6",
      "metadata": {
        "colab": {
          "base_uri": "https://localhost:8080/"
        },
        "id": "744ec6c6",
        "outputId": "e166dbd7-e1d3-4440-f934-322f1493a445"
      },
      "outputs": [
        {
          "output_type": "execute_result",
          "data": {
            "text/plain": [
              "tensor([[0.6736, 0.4466],\n",
              "        [0.0088, 0.9310]])"
            ]
          },
          "metadata": {},
          "execution_count": 20
        }
      ],
      "source": [
        "z"
      ]
    },
    {
      "cell_type": "code",
      "execution_count": 21,
      "id": "fcd4bcad",
      "metadata": {
        "colab": {
          "base_uri": "https://localhost:8080/"
        },
        "id": "fcd4bcad",
        "outputId": "7aa3bec2-0fc2-4142-c1b8-6b9e60786e01"
      },
      "outputs": [
        {
          "output_type": "execute_result",
          "data": {
            "text/plain": [
              "tensor([[0.3095, 0.4173, 0.8034],\n",
              "        [0.0211, 0.4567, 0.8130],\n",
              "        [0.3245, 0.0340, 0.3914],\n",
              "        [0.5597, 0.6464, 0.5330],\n",
              "        [0.6224, 0.7576, 0.1750]])"
            ]
          },
          "metadata": {},
          "execution_count": 21
        }
      ],
      "source": [
        "x = torch.rand(5,3)\n",
        "x"
      ]
    },
    {
      "cell_type": "code",
      "execution_count": 22,
      "id": "74555f33",
      "metadata": {
        "colab": {
          "base_uri": "https://localhost:8080/"
        },
        "id": "74555f33",
        "outputId": "8de3d903-3908-4049-b856-4a33758ad1d4"
      },
      "outputs": [
        {
          "output_type": "execute_result",
          "data": {
            "text/plain": [
              "tensor(0.8130)"
            ]
          },
          "metadata": {},
          "execution_count": 22
        }
      ],
      "source": [
        "x [1,2]"
      ]
    },
    {
      "cell_type": "code",
      "execution_count": 23,
      "id": "91a0f57a",
      "metadata": {
        "colab": {
          "base_uri": "https://localhost:8080/"
        },
        "id": "91a0f57a",
        "outputId": "00c61ac8-02e2-4be1-8267-23996bc71a24"
      },
      "outputs": [
        {
          "output_type": "execute_result",
          "data": {
            "text/plain": [
              "tensor([0.0211, 0.4567, 0.8130])"
            ]
          },
          "metadata": {},
          "execution_count": 23
        }
      ],
      "source": [
        "x[1,:]"
      ]
    },
    {
      "cell_type": "code",
      "execution_count": 24,
      "id": "1685cdd4",
      "metadata": {
        "colab": {
          "base_uri": "https://localhost:8080/"
        },
        "id": "1685cdd4",
        "outputId": "d5e4b455-cc0e-49f9-8750-8a9e9a8a3968"
      },
      "outputs": [
        {
          "output_type": "execute_result",
          "data": {
            "text/plain": [
              "0.8129932284355164"
            ]
          },
          "metadata": {},
          "execution_count": 24
        }
      ],
      "source": [
        "x[1,2].item()"
      ]
    },
    {
      "cell_type": "code",
      "execution_count": 25,
      "id": "0c740104",
      "metadata": {
        "colab": {
          "base_uri": "https://localhost:8080/"
        },
        "id": "0c740104",
        "outputId": "c0dfb83d-9153-46ef-8d84-6deaecded930"
      },
      "outputs": [
        {
          "output_type": "execute_result",
          "data": {
            "text/plain": [
              "tensor([0.3095, 0.4173, 0.8034, 0.0211, 0.4567, 0.8130, 0.3245, 0.0340, 0.3914,\n",
              "        0.5597, 0.6464, 0.5330, 0.6224, 0.7576, 0.1750])"
            ]
          },
          "metadata": {},
          "execution_count": 25
        }
      ],
      "source": [
        "# Reshape \n",
        "x.view(15)"
      ]
    },
    {
      "cell_type": "code",
      "execution_count": 26,
      "id": "bad48f27",
      "metadata": {
        "colab": {
          "base_uri": "https://localhost:8080/"
        },
        "id": "bad48f27",
        "outputId": "f860c072-9630-4762-bfe0-7746404f0ae8"
      },
      "outputs": [
        {
          "output_type": "execute_result",
          "data": {
            "text/plain": [
              "tensor([[0.3095, 0.4173, 0.8034],\n",
              "        [0.0211, 0.4567, 0.8130],\n",
              "        [0.3245, 0.0340, 0.3914],\n",
              "        [0.5597, 0.6464, 0.5330],\n",
              "        [0.6224, 0.7576, 0.1750]])"
            ]
          },
          "metadata": {},
          "execution_count": 26
        }
      ],
      "source": [
        "#reshape\n",
        "x"
      ]
    },
    {
      "cell_type": "code",
      "execution_count": 27,
      "id": "f90066a6",
      "metadata": {
        "colab": {
          "base_uri": "https://localhost:8080/"
        },
        "id": "f90066a6",
        "outputId": "086f97bf-5f77-4e07-b40f-5e191e88cf48"
      },
      "outputs": [
        {
          "output_type": "execute_result",
          "data": {
            "text/plain": [
              "tensor([[0.3095, 0.4173, 0.8034, 0.0211, 0.4567],\n",
              "        [0.8130, 0.3245, 0.0340, 0.3914, 0.5597],\n",
              "        [0.6464, 0.5330, 0.6224, 0.7576, 0.1750]])"
            ]
          },
          "metadata": {},
          "execution_count": 27
        }
      ],
      "source": [
        "x.view(-1,5) #row view iteration"
      ]
    },
    {
      "cell_type": "markdown",
      "id": "3c46ac17",
      "metadata": {
        "id": "3c46ac17"
      },
      "source": [
        "### Numpy to Tensor,Vice Versa"
      ]
    },
    {
      "cell_type": "code",
      "execution_count": 28,
      "id": "505388fc",
      "metadata": {
        "id": "505388fc"
      },
      "outputs": [],
      "source": [
        "import numpy as np"
      ]
    },
    {
      "cell_type": "code",
      "execution_count": 29,
      "id": "2427aff7",
      "metadata": {
        "colab": {
          "base_uri": "https://localhost:8080/"
        },
        "id": "2427aff7",
        "outputId": "e0f72724-8dfc-4f7f-ae94-9c88dbfca0c4"
      },
      "outputs": [
        {
          "output_type": "execute_result",
          "data": {
            "text/plain": [
              "tensor([1., 1., 1., 1., 1.])"
            ]
          },
          "metadata": {},
          "execution_count": 29
        }
      ],
      "source": [
        "a = torch.ones(5)\n",
        "a"
      ]
    },
    {
      "cell_type": "code",
      "execution_count": 30,
      "id": "2476144c",
      "metadata": {
        "colab": {
          "base_uri": "https://localhost:8080/"
        },
        "id": "2476144c",
        "outputId": "ca97361f-dfca-46a6-9fdc-e2bc78b66557"
      },
      "outputs": [
        {
          "output_type": "execute_result",
          "data": {
            "text/plain": [
              "array([1., 1., 1., 1., 1.], dtype=float32)"
            ]
          },
          "metadata": {},
          "execution_count": 30
        }
      ],
      "source": [
        "b = a.numpy()\n",
        "b"
      ]
    },
    {
      "cell_type": "code",
      "execution_count": 31,
      "id": "6e9e36eb",
      "metadata": {
        "colab": {
          "base_uri": "https://localhost:8080/"
        },
        "id": "6e9e36eb",
        "outputId": "e27ed4e7-1b59-497e-f836-1e3f4489c5a6"
      },
      "outputs": [
        {
          "output_type": "execute_result",
          "data": {
            "text/plain": [
              "array([1., 1., 1., 1., 1.])"
            ]
          },
          "metadata": {},
          "execution_count": 31
        }
      ],
      "source": [
        "a = np.ones(5)\n",
        "a"
      ]
    },
    {
      "cell_type": "code",
      "execution_count": 32,
      "id": "87234b22",
      "metadata": {
        "colab": {
          "base_uri": "https://localhost:8080/"
        },
        "id": "87234b22",
        "outputId": "3a93876b-6de9-477c-a216-a4045f4242a5"
      },
      "outputs": [
        {
          "output_type": "execute_result",
          "data": {
            "text/plain": [
              "tensor([1., 1., 1., 1., 1.], dtype=torch.float64)"
            ]
          },
          "metadata": {},
          "execution_count": 32
        }
      ],
      "source": [
        "b = torch.from_numpy(a)\n",
        "b"
      ]
    },
    {
      "cell_type": "code",
      "execution_count": 33,
      "id": "75eb1273",
      "metadata": {
        "id": "75eb1273"
      },
      "outputs": [],
      "source": [
        "a+=1"
      ]
    },
    {
      "cell_type": "code",
      "execution_count": 34,
      "id": "d053557f",
      "metadata": {
        "colab": {
          "base_uri": "https://localhost:8080/"
        },
        "id": "d053557f",
        "outputId": "1bfdff85-2b3c-44ab-8c1d-3f9658ff41e0"
      },
      "outputs": [
        {
          "output_type": "execute_result",
          "data": {
            "text/plain": [
              "tensor([2., 2., 2., 2., 2.], dtype=torch.float64)"
            ]
          },
          "metadata": {},
          "execution_count": 34
        }
      ],
      "source": [
        "b #Tensor is updated when made changes to a(numpy)"
      ]
    },
    {
      "cell_type": "code",
      "execution_count": 35,
      "id": "2eefc7f8",
      "metadata": {
        "colab": {
          "base_uri": "https://localhost:8080/"
        },
        "id": "2eefc7f8",
        "outputId": "8e3fda50-c32c-4ddc-f4c4-fa91ea2916aa"
      },
      "outputs": [
        {
          "output_type": "execute_result",
          "data": {
            "text/plain": [
              "array([2., 2., 2., 2., 2.])"
            ]
          },
          "metadata": {},
          "execution_count": 35
        }
      ],
      "source": [
        "a"
      ]
    },
    {
      "cell_type": "code",
      "execution_count": 36,
      "id": "90bf9094",
      "metadata": {
        "colab": {
          "base_uri": "https://localhost:8080/"
        },
        "id": "90bf9094",
        "outputId": "29e6cec6-a4fe-4616-9941-31625f210097"
      },
      "outputs": [
        {
          "output_type": "execute_result",
          "data": {
            "text/plain": [
              "tensor([3., 3., 3., 3., 3.], dtype=torch.float64)"
            ]
          },
          "metadata": {},
          "execution_count": 36
        }
      ],
      "source": [
        "b+=1\n",
        "b"
      ]
    },
    {
      "cell_type": "code",
      "execution_count": 37,
      "id": "778ad6cd",
      "metadata": {
        "colab": {
          "base_uri": "https://localhost:8080/"
        },
        "id": "778ad6cd",
        "outputId": "442edc82-3765-46cd-9fba-0d4687297faf"
      },
      "outputs": [
        {
          "output_type": "execute_result",
          "data": {
            "text/plain": [
              "array([3., 3., 3., 3., 3.])"
            ]
          },
          "metadata": {},
          "execution_count": 37
        }
      ],
      "source": [
        "a"
      ]
    },
    {
      "cell_type": "markdown",
      "id": "4b5a4953",
      "metadata": {
        "id": "4b5a4953"
      },
      "source": [
        "#### In GPU torch , tensor is connected which means any update to numpy array is also reflected in tensor,vice versa"
      ]
    },
    {
      "cell_type": "code",
      "execution_count": 38,
      "id": "b31387a0",
      "metadata": {
        "colab": {
          "base_uri": "https://localhost:8080/"
        },
        "id": "b31387a0",
        "outputId": "ddb7fc4c-2474-425d-c46a-7ffb57934e79"
      },
      "outputs": [
        {
          "output_type": "execute_result",
          "data": {
            "text/plain": [
              "True"
            ]
          },
          "metadata": {},
          "execution_count": 38
        }
      ],
      "source": [
        "torch.cuda.is_available()"
      ]
    },
    {
      "cell_type": "code",
      "execution_count": 39,
      "id": "4dff2649",
      "metadata": {
        "colab": {
          "base_uri": "https://localhost:8080/",
          "height": 35
        },
        "id": "4dff2649",
        "outputId": "de56df69-c462-48b4-b3cd-945dcd26ae89"
      },
      "outputs": [
        {
          "output_type": "execute_result",
          "data": {
            "application/vnd.google.colaboratory.intrinsic+json": {
              "type": "string"
            },
            "text/plain": [
              "'11.1'"
            ]
          },
          "metadata": {},
          "execution_count": 39
        }
      ],
      "source": [
        "torch.version.cuda"
      ]
    },
    {
      "cell_type": "code",
      "execution_count": 42,
      "id": "6c91a367",
      "metadata": {
        "colab": {
          "base_uri": "https://localhost:8080/",
          "height": 217
        },
        "id": "6c91a367",
        "outputId": "a61fc140-c474-4910-87a7-d81aa36e8cea"
      },
      "outputs": [
        {
          "output_type": "error",
          "ename": "RuntimeError",
          "evalue": "ignored",
          "traceback": [
            "\u001b[0;31m---------------------------------------------------------------------------\u001b[0m",
            "\u001b[0;31mRuntimeError\u001b[0m                              Traceback (most recent call last)",
            "\u001b[0;32m<ipython-input-42-673d2f53a72c>\u001b[0m in \u001b[0;36m<module>\u001b[0;34m()\u001b[0m\n\u001b[1;32m      3\u001b[0m   \u001b[0mx\u001b[0m \u001b[0;34m=\u001b[0m \u001b[0mtorch\u001b[0m\u001b[0;34m.\u001b[0m\u001b[0mones\u001b[0m\u001b[0;34m(\u001b[0m\u001b[0;36m5\u001b[0m\u001b[0;34m,\u001b[0m\u001b[0mdevice\u001b[0m\u001b[0;34m=\u001b[0m\u001b[0mdevice\u001b[0m\u001b[0;34m)\u001b[0m\u001b[0;34m\u001b[0m\u001b[0;34m\u001b[0m\u001b[0m\n\u001b[1;32m      4\u001b[0m   \u001b[0my\u001b[0m \u001b[0;34m=\u001b[0m \u001b[0mtorch\u001b[0m\u001b[0;34m.\u001b[0m\u001b[0mones\u001b[0m\u001b[0;34m(\u001b[0m\u001b[0;36m5\u001b[0m\u001b[0;34m)\u001b[0m\u001b[0;34m\u001b[0m\u001b[0;34m\u001b[0m\u001b[0m\n\u001b[0;32m----> 5\u001b[0;31m   \u001b[0mz\u001b[0m \u001b[0;34m=\u001b[0m \u001b[0mx\u001b[0m\u001b[0;34m+\u001b[0m\u001b[0my\u001b[0m\u001b[0;34m\u001b[0m\u001b[0;34m\u001b[0m\u001b[0m\n\u001b[0m\u001b[1;32m      6\u001b[0m   \u001b[0mprint\u001b[0m\u001b[0;34m(\u001b[0m\u001b[0mz\u001b[0m\u001b[0;34m)\u001b[0m\u001b[0;34m\u001b[0m\u001b[0;34m\u001b[0m\u001b[0m\n",
            "\u001b[0;31mRuntimeError\u001b[0m: Expected all tensors to be on the same device, but found at least two devices, cuda:0 and cpu!"
          ]
        }
      ],
      "source": [
        "if torch.cuda.is_available():\n",
        "  device = torch.device(\"cuda\")\n",
        "  x = torch.ones(5,device=device)\n",
        "  y = torch.ones(5)\n",
        "  z = x+y\n",
        "  print(z)"
      ]
    },
    {
      "cell_type": "code",
      "execution_count": 45,
      "id": "5b31c6af",
      "metadata": {
        "colab": {
          "base_uri": "https://localhost:8080/",
          "height": 217
        },
        "id": "5b31c6af",
        "outputId": "fc840fd1-0091-4bab-dab4-fec2282a51d2"
      },
      "outputs": [
        {
          "output_type": "stream",
          "name": "stdout",
          "text": [
            "tensor([2., 2., 2., 2., 2.], device='cuda:0')\n"
          ]
        },
        {
          "output_type": "error",
          "ename": "TypeError",
          "evalue": "ignored",
          "traceback": [
            "\u001b[0;31m---------------------------------------------------------------------------\u001b[0m",
            "\u001b[0;31mTypeError\u001b[0m                                 Traceback (most recent call last)",
            "\u001b[0;32m<ipython-input-45-080675ac248d>\u001b[0m in \u001b[0;36m<module>\u001b[0;34m()\u001b[0m\n\u001b[1;32m      6\u001b[0m   \u001b[0mz\u001b[0m \u001b[0;34m=\u001b[0m \u001b[0mx\u001b[0m\u001b[0;34m+\u001b[0m\u001b[0my\u001b[0m\u001b[0;34m\u001b[0m\u001b[0;34m\u001b[0m\u001b[0m\n\u001b[1;32m      7\u001b[0m   \u001b[0mprint\u001b[0m\u001b[0;34m(\u001b[0m\u001b[0mz\u001b[0m\u001b[0;34m)\u001b[0m\u001b[0;34m\u001b[0m\u001b[0;34m\u001b[0m\u001b[0m\n\u001b[0;32m----> 8\u001b[0;31m   \u001b[0mz\u001b[0m\u001b[0;34m.\u001b[0m\u001b[0mnumpy\u001b[0m\u001b[0;34m(\u001b[0m\u001b[0;34m)\u001b[0m\u001b[0;34m\u001b[0m\u001b[0;34m\u001b[0m\u001b[0m\n\u001b[0m",
            "\u001b[0;31mTypeError\u001b[0m: can't convert cuda:0 device type tensor to numpy. Use Tensor.cpu() to copy the tensor to host memory first."
          ]
        }
      ],
      "source": [
        "if torch.cuda.is_available():\n",
        "  device = torch.device(\"cuda\")\n",
        "  x = torch.ones(5,device=device)\n",
        "  y = torch.ones(5)\n",
        "  y = y.to(device)\n",
        "  z = x+y\n",
        "  print(z)\n",
        "  z.numpy()"
      ]
    },
    {
      "cell_type": "code",
      "execution_count": 39,
      "id": "83607a2d",
      "metadata": {
        "id": "83607a2d"
      },
      "outputs": [],
      "source": [
        ""
      ]
    }
  ],
  "metadata": {
    "kernelspec": {
      "display_name": "Python 3",
      "language": "python",
      "name": "python3"
    },
    "language_info": {
      "codemirror_mode": {
        "name": "ipython",
        "version": 3
      },
      "file_extension": ".py",
      "mimetype": "text/x-python",
      "name": "python",
      "nbconvert_exporter": "python",
      "pygments_lexer": "ipython3",
      "version": "3.8.8"
    },
    "colab": {
      "name": "01_tensor.py.ipynb",
      "provenance": [],
      "include_colab_link": true
    },
    "accelerator": "GPU"
  },
  "nbformat": 4,
  "nbformat_minor": 5
}