{
  "cells": [
    {
      "cell_type": "markdown",
      "metadata": {
        "id": "view-in-github",
        "colab_type": "text"
      },
      "source": [
        "<a href=\"https://colab.research.google.com/github/BharatXBhalla/LearningPyTorch-Youtube/blob/main/tensors/01_tensor_py.ipynb\" target=\"_parent\"><img src=\"https://colab.research.google.com/assets/colab-badge.svg\" alt=\"Open In Colab\"/></a>"
      ]
    },
    {
      "cell_type": "markdown",
      "id": "6a390293",
      "metadata": {
        "id": "6a390293"
      },
      "source": [
        "### Tensor"
      ]
    },
    {
      "cell_type": "code",
      "execution_count": null,
      "id": "23a42028",
      "metadata": {
        "id": "23a42028"
      },
      "outputs": [],
      "source": [
        "import torch "
      ]
    },
    {
      "cell_type": "code",
      "execution_count": null,
      "id": "11dca8ce",
      "metadata": {
        "id": "11dca8ce",
        "outputId": "4cd891b7-d24a-420f-d621-94d5cfd01b1c"
      },
      "outputs": [
        {
          "data": {
            "text/plain": [
              "tensor([0.])"
            ]
          },
          "execution_count": 2,
          "metadata": {},
          "output_type": "execute_result"
        }
      ],
      "source": [
        "x = torch.empty(1)\n",
        "x"
      ]
    },
    {
      "cell_type": "code",
      "execution_count": null,
      "id": "75890671",
      "metadata": {
        "id": "75890671",
        "outputId": "74b085e6-dbc0-477e-8d6f-708a333d197e"
      },
      "outputs": [
        {
          "data": {
            "text/plain": [
              "tensor([[[0., 0., 0.],\n",
              "         [0., 0., 0.]],\n",
              "\n",
              "        [[0., 0., 0.],\n",
              "         [0., 0., 0.]]])"
            ]
          },
          "execution_count": 3,
          "metadata": {},
          "output_type": "execute_result"
        }
      ],
      "source": [
        "x = torch.empty(2,2,3)\n",
        "x"
      ]
    },
    {
      "cell_type": "code",
      "execution_count": null,
      "id": "d7592da7",
      "metadata": {
        "id": "d7592da7",
        "outputId": "01214294-f21a-42c0-b582-3374bd389c28"
      },
      "outputs": [
        {
          "data": {
            "text/plain": [
              "tensor([[0.6444, 0.8040],\n",
              "        [0.9706, 0.5668]])"
            ]
          },
          "execution_count": 4,
          "metadata": {},
          "output_type": "execute_result"
        }
      ],
      "source": [
        "x = torch.rand(2,2)\n",
        "x"
      ]
    },
    {
      "cell_type": "code",
      "execution_count": null,
      "id": "b0e2d6a1",
      "metadata": {
        "id": "b0e2d6a1",
        "outputId": "5854acda-564b-436f-838c-314d5998027e"
      },
      "outputs": [
        {
          "data": {
            "text/plain": [
              "torch.float32"
            ]
          },
          "execution_count": 5,
          "metadata": {},
          "output_type": "execute_result"
        }
      ],
      "source": [
        "x.dtype"
      ]
    },
    {
      "cell_type": "code",
      "execution_count": null,
      "id": "be92a8b7",
      "metadata": {
        "id": "be92a8b7"
      },
      "outputs": [],
      "source": [
        "x = torch.rand(2,2,dtype=torch.float16)"
      ]
    },
    {
      "cell_type": "code",
      "execution_count": null,
      "id": "bb243322",
      "metadata": {
        "id": "bb243322",
        "outputId": "d6ce6eb2-72d7-4886-95da-5d25ae729ce6"
      },
      "outputs": [
        {
          "data": {
            "text/plain": [
              "tensor([[0.9556, 0.3975],\n",
              "        [0.8691, 0.7163]], dtype=torch.float16)"
            ]
          },
          "execution_count": 7,
          "metadata": {},
          "output_type": "execute_result"
        }
      ],
      "source": [
        "x"
      ]
    },
    {
      "cell_type": "code",
      "execution_count": null,
      "id": "ab10c4fb",
      "metadata": {
        "id": "ab10c4fb",
        "outputId": "edb54750-2a24-401b-e595-4121d8c06147"
      },
      "outputs": [
        {
          "data": {
            "text/plain": [
              "torch.Size([2, 2])"
            ]
          },
          "execution_count": 8,
          "metadata": {},
          "output_type": "execute_result"
        }
      ],
      "source": [
        "x.size()"
      ]
    },
    {
      "cell_type": "markdown",
      "id": "e89d2e47",
      "metadata": {
        "id": "e89d2e47"
      },
      "source": [
        "### List to Tensor"
      ]
    },
    {
      "cell_type": "code",
      "execution_count": null,
      "id": "2dd89685",
      "metadata": {
        "id": "2dd89685",
        "outputId": "7e78b095-b99a-4d0e-a91b-8bd5cd23bd99"
      },
      "outputs": [
        {
          "data": {
            "text/plain": [
              "tensor([2.3000, 4.5000])"
            ]
          },
          "execution_count": 9,
          "metadata": {},
          "output_type": "execute_result"
        }
      ],
      "source": [
        "x = torch.tensor([2.3,4.5])\n",
        "x"
      ]
    },
    {
      "cell_type": "code",
      "execution_count": null,
      "id": "54293f82",
      "metadata": {
        "id": "54293f82"
      },
      "outputs": [],
      "source": [
        "x = torch.rand(2,2)\n",
        "y = torch.rand(2,2)"
      ]
    },
    {
      "cell_type": "code",
      "execution_count": null,
      "id": "f1112ca8",
      "metadata": {
        "id": "f1112ca8",
        "outputId": "59de0c6d-737c-45e2-db7a-c84efec0bdf7"
      },
      "outputs": [
        {
          "data": {
            "text/plain": [
              "tensor([[0.8660, 0.2511],\n",
              "        [0.9952, 0.8859]])"
            ]
          },
          "execution_count": 11,
          "metadata": {},
          "output_type": "execute_result"
        }
      ],
      "source": [
        "x"
      ]
    },
    {
      "cell_type": "code",
      "execution_count": null,
      "id": "e731f8c1",
      "metadata": {
        "id": "e731f8c1",
        "outputId": "9ef35064-123d-4cdd-9763-aed66db2bc0d"
      },
      "outputs": [
        {
          "data": {
            "text/plain": [
              "tensor([[0.5157, 0.4364],\n",
              "        [0.1085, 0.1360]])"
            ]
          },
          "execution_count": 12,
          "metadata": {},
          "output_type": "execute_result"
        }
      ],
      "source": [
        "y"
      ]
    },
    {
      "cell_type": "code",
      "execution_count": null,
      "id": "ca70d2fe",
      "metadata": {
        "id": "ca70d2fe"
      },
      "outputs": [],
      "source": [
        "z = x+y"
      ]
    },
    {
      "cell_type": "code",
      "execution_count": null,
      "id": "0432bf1d",
      "metadata": {
        "id": "0432bf1d",
        "outputId": "6e63a364-4f7a-4546-ab97-c4ddcf1c46af"
      },
      "outputs": [
        {
          "data": {
            "text/plain": [
              "tensor([[1.3817, 0.6875],\n",
              "        [1.1037, 1.0220]])"
            ]
          },
          "execution_count": 14,
          "metadata": {},
          "output_type": "execute_result"
        }
      ],
      "source": [
        "z"
      ]
    },
    {
      "cell_type": "code",
      "execution_count": null,
      "id": "fad9d585",
      "metadata": {
        "id": "fad9d585",
        "outputId": "e4138452-1ed5-4be1-8f31-698d3c293791"
      },
      "outputs": [
        {
          "data": {
            "text/plain": [
              "tensor([[1.3817, 0.6875],\n",
              "        [1.1037, 1.0220]])"
            ]
          },
          "execution_count": 15,
          "metadata": {},
          "output_type": "execute_result"
        }
      ],
      "source": [
        "y.add_(x) #inplace addition"
      ]
    },
    {
      "cell_type": "code",
      "execution_count": null,
      "id": "09019151",
      "metadata": {
        "id": "09019151",
        "outputId": "4cde3710-ec8e-4625-e7c5-15de74a60c92"
      },
      "outputs": [
        {
          "data": {
            "text/plain": [
              "tensor([[0., 0.],\n",
              "        [0., 0.]])"
            ]
          },
          "execution_count": 16,
          "metadata": {},
          "output_type": "execute_result"
        }
      ],
      "source": [
        "y.sub_(y)"
      ]
    },
    {
      "cell_type": "code",
      "execution_count": null,
      "id": "8a90712e",
      "metadata": {
        "id": "8a90712e"
      },
      "outputs": [],
      "source": [
        "z = torch.mul(x,x)"
      ]
    },
    {
      "cell_type": "code",
      "execution_count": null,
      "id": "17b5a0e1",
      "metadata": {
        "id": "17b5a0e1",
        "outputId": "b5d93203-8f99-4f0d-a7ce-0733b6944336"
      },
      "outputs": [
        {
          "data": {
            "text/plain": [
              "tensor([[0.7500, 0.0630],\n",
              "        [0.9904, 0.7848]])"
            ]
          },
          "execution_count": 18,
          "metadata": {},
          "output_type": "execute_result"
        }
      ],
      "source": [
        "z"
      ]
    },
    {
      "cell_type": "code",
      "execution_count": null,
      "id": "d089d1df",
      "metadata": {
        "id": "d089d1df",
        "outputId": "d91a1da4-6b64-4d23-b901-79b95d8b6370"
      },
      "outputs": [
        {
          "data": {
            "text/plain": [
              "tensor([[1., 1.],\n",
              "        [1., 1.]])"
            ]
          },
          "execution_count": 19,
          "metadata": {},
          "output_type": "execute_result"
        }
      ],
      "source": [
        "z/z"
      ]
    },
    {
      "cell_type": "code",
      "execution_count": null,
      "id": "744ec6c6",
      "metadata": {
        "id": "744ec6c6",
        "outputId": "5ef57ca2-5031-49f8-e7f9-c9cf7f200ad0"
      },
      "outputs": [
        {
          "data": {
            "text/plain": [
              "tensor([[0.7500, 0.0630],\n",
              "        [0.9904, 0.7848]])"
            ]
          },
          "execution_count": 20,
          "metadata": {},
          "output_type": "execute_result"
        }
      ],
      "source": [
        "z"
      ]
    },
    {
      "cell_type": "code",
      "execution_count": null,
      "id": "fcd4bcad",
      "metadata": {
        "id": "fcd4bcad",
        "outputId": "d73e071c-5014-4737-ef80-433cd3d6f0c0"
      },
      "outputs": [
        {
          "data": {
            "text/plain": [
              "tensor([[0.2417, 0.0985, 0.3495],\n",
              "        [0.9453, 0.2934, 0.1959],\n",
              "        [0.1789, 0.1334, 0.7657],\n",
              "        [0.1141, 0.8907, 0.5318],\n",
              "        [0.3830, 0.2465, 0.3559]])"
            ]
          },
          "execution_count": 21,
          "metadata": {},
          "output_type": "execute_result"
        }
      ],
      "source": [
        "x = torch.rand(5,3)\n",
        "x"
      ]
    },
    {
      "cell_type": "code",
      "execution_count": null,
      "id": "74555f33",
      "metadata": {
        "id": "74555f33",
        "outputId": "e914d97c-9068-43ab-f5a7-3a3c98f6a04a"
      },
      "outputs": [
        {
          "data": {
            "text/plain": [
              "tensor(0.1959)"
            ]
          },
          "execution_count": 22,
          "metadata": {},
          "output_type": "execute_result"
        }
      ],
      "source": [
        "x [1,2]"
      ]
    },
    {
      "cell_type": "code",
      "execution_count": null,
      "id": "91a0f57a",
      "metadata": {
        "id": "91a0f57a",
        "outputId": "98f0e733-80ba-4a13-9b70-c498ff79fd1f"
      },
      "outputs": [
        {
          "data": {
            "text/plain": [
              "tensor([0.9453, 0.2934, 0.1959])"
            ]
          },
          "execution_count": 23,
          "metadata": {},
          "output_type": "execute_result"
        }
      ],
      "source": [
        "x[1,:]"
      ]
    },
    {
      "cell_type": "code",
      "execution_count": null,
      "id": "1685cdd4",
      "metadata": {
        "id": "1685cdd4",
        "outputId": "c5552f60-a8c0-40f5-d594-fa912dccccb5"
      },
      "outputs": [
        {
          "data": {
            "text/plain": [
              "0.1959143877029419"
            ]
          },
          "execution_count": 24,
          "metadata": {},
          "output_type": "execute_result"
        }
      ],
      "source": [
        "x[1,2].item()"
      ]
    },
    {
      "cell_type": "code",
      "execution_count": null,
      "id": "0c740104",
      "metadata": {
        "id": "0c740104",
        "outputId": "7bd0dad0-cc4c-49dc-f109-eaef72bd8f74"
      },
      "outputs": [
        {
          "data": {
            "text/plain": [
              "tensor([0.2417, 0.0985, 0.3495, 0.9453, 0.2934, 0.1959, 0.1789, 0.1334, 0.7657,\n",
              "        0.1141, 0.8907, 0.5318, 0.3830, 0.2465, 0.3559])"
            ]
          },
          "execution_count": 25,
          "metadata": {},
          "output_type": "execute_result"
        }
      ],
      "source": [
        "# Reshape \n",
        "x.view(15)"
      ]
    },
    {
      "cell_type": "code",
      "execution_count": null,
      "id": "bad48f27",
      "metadata": {
        "id": "bad48f27",
        "outputId": "6a9b191c-e9f3-4067-9e9c-f84039c3e8ee"
      },
      "outputs": [
        {
          "data": {
            "text/plain": [
              "tensor([[0.2417, 0.0985, 0.3495],\n",
              "        [0.9453, 0.2934, 0.1959],\n",
              "        [0.1789, 0.1334, 0.7657],\n",
              "        [0.1141, 0.8907, 0.5318],\n",
              "        [0.3830, 0.2465, 0.3559]])"
            ]
          },
          "execution_count": 26,
          "metadata": {},
          "output_type": "execute_result"
        }
      ],
      "source": [
        "#reshape\n",
        "x"
      ]
    },
    {
      "cell_type": "code",
      "execution_count": null,
      "id": "f90066a6",
      "metadata": {
        "id": "f90066a6",
        "outputId": "1482fd5b-99ca-4182-d206-ab0e004d25d1"
      },
      "outputs": [
        {
          "data": {
            "text/plain": [
              "tensor([[0.2417, 0.0985, 0.3495, 0.9453, 0.2934],\n",
              "        [0.1959, 0.1789, 0.1334, 0.7657, 0.1141],\n",
              "        [0.8907, 0.5318, 0.3830, 0.2465, 0.3559]])"
            ]
          },
          "execution_count": 27,
          "metadata": {},
          "output_type": "execute_result"
        }
      ],
      "source": [
        "x.view(-1,5) #row view iteration"
      ]
    },
    {
      "cell_type": "markdown",
      "id": "3c46ac17",
      "metadata": {
        "id": "3c46ac17"
      },
      "source": [
        "### Numpy to Tensor,Vice Versa"
      ]
    },
    {
      "cell_type": "code",
      "execution_count": null,
      "id": "505388fc",
      "metadata": {
        "id": "505388fc"
      },
      "outputs": [],
      "source": [
        "import numpy as np"
      ]
    },
    {
      "cell_type": "code",
      "execution_count": null,
      "id": "2427aff7",
      "metadata": {
        "id": "2427aff7",
        "outputId": "e0738192-3f3a-489c-b232-b848bbc5989c"
      },
      "outputs": [
        {
          "data": {
            "text/plain": [
              "tensor([1., 1., 1., 1., 1.])"
            ]
          },
          "execution_count": 29,
          "metadata": {},
          "output_type": "execute_result"
        }
      ],
      "source": [
        "a = torch.ones(5)\n",
        "a"
      ]
    },
    {
      "cell_type": "code",
      "execution_count": null,
      "id": "2476144c",
      "metadata": {
        "id": "2476144c",
        "outputId": "7546857f-6686-45a5-c80a-b1808be8e76a"
      },
      "outputs": [
        {
          "data": {
            "text/plain": [
              "array([1., 1., 1., 1., 1.], dtype=float32)"
            ]
          },
          "execution_count": 30,
          "metadata": {},
          "output_type": "execute_result"
        }
      ],
      "source": [
        "b = a.numpy()\n",
        "b"
      ]
    },
    {
      "cell_type": "code",
      "execution_count": null,
      "id": "6e9e36eb",
      "metadata": {
        "id": "6e9e36eb",
        "outputId": "69132c2f-da62-4801-c37d-c38fb106f46b"
      },
      "outputs": [
        {
          "data": {
            "text/plain": [
              "array([1., 1., 1., 1., 1.])"
            ]
          },
          "execution_count": 31,
          "metadata": {},
          "output_type": "execute_result"
        }
      ],
      "source": [
        "a = np.ones(5)\n",
        "a"
      ]
    },
    {
      "cell_type": "code",
      "execution_count": null,
      "id": "87234b22",
      "metadata": {
        "id": "87234b22",
        "outputId": "61a4a82a-49f4-4925-9ef8-c05a2465ea3f"
      },
      "outputs": [
        {
          "data": {
            "text/plain": [
              "tensor([1., 1., 1., 1., 1.], dtype=torch.float64)"
            ]
          },
          "execution_count": 32,
          "metadata": {},
          "output_type": "execute_result"
        }
      ],
      "source": [
        "b = torch.from_numpy(a)\n",
        "b"
      ]
    },
    {
      "cell_type": "code",
      "execution_count": null,
      "id": "75eb1273",
      "metadata": {
        "id": "75eb1273"
      },
      "outputs": [],
      "source": [
        "a+=1"
      ]
    },
    {
      "cell_type": "code",
      "execution_count": null,
      "id": "d053557f",
      "metadata": {
        "id": "d053557f",
        "outputId": "fa2869b8-9e60-4815-e710-ae8a5bd09dd9"
      },
      "outputs": [
        {
          "data": {
            "text/plain": [
              "tensor([2., 2., 2., 2., 2.], dtype=torch.float64)"
            ]
          },
          "execution_count": 34,
          "metadata": {},
          "output_type": "execute_result"
        }
      ],
      "source": [
        "b #Tensor is updated when made changes to a(numpy)"
      ]
    },
    {
      "cell_type": "code",
      "execution_count": null,
      "id": "2eefc7f8",
      "metadata": {
        "id": "2eefc7f8",
        "outputId": "fa7ee7b6-9264-4116-98d8-0fc8fba78763"
      },
      "outputs": [
        {
          "data": {
            "text/plain": [
              "array([2., 2., 2., 2., 2.])"
            ]
          },
          "execution_count": 35,
          "metadata": {},
          "output_type": "execute_result"
        }
      ],
      "source": [
        "a"
      ]
    },
    {
      "cell_type": "code",
      "execution_count": null,
      "id": "90bf9094",
      "metadata": {
        "id": "90bf9094",
        "outputId": "34752aeb-d9e4-47d0-a58c-9870c6ed273f"
      },
      "outputs": [
        {
          "data": {
            "text/plain": [
              "tensor([3., 3., 3., 3., 3.], dtype=torch.float64)"
            ]
          },
          "execution_count": 36,
          "metadata": {},
          "output_type": "execute_result"
        }
      ],
      "source": [
        "b+=1\n",
        "b"
      ]
    },
    {
      "cell_type": "code",
      "execution_count": null,
      "id": "778ad6cd",
      "metadata": {
        "id": "778ad6cd",
        "outputId": "1575d2f5-e910-49d2-a0fa-6e9b1db17e5f"
      },
      "outputs": [
        {
          "data": {
            "text/plain": [
              "array([3., 3., 3., 3., 3.])"
            ]
          },
          "execution_count": 37,
          "metadata": {},
          "output_type": "execute_result"
        }
      ],
      "source": [
        "a"
      ]
    },
    {
      "cell_type": "markdown",
      "id": "4b5a4953",
      "metadata": {
        "id": "4b5a4953"
      },
      "source": [
        "#### In GPU torch , tensor is connected which means any update to numpy array is also reflected in tensor,vice versa"
      ]
    },
    {
      "cell_type": "code",
      "execution_count": null,
      "id": "b31387a0",
      "metadata": {
        "id": "b31387a0",
        "outputId": "56ca3382-b2f5-4f37-d76b-253d07004013"
      },
      "outputs": [
        {
          "name": "stderr",
          "output_type": "stream",
          "text": [
            "C:\\ProgramData\\Anaconda3\\lib\\site-packages\\torch\\cuda\\__init__.py:80: UserWarning: CUDA initialization: CUDA unknown error - this may be due to an incorrectly set up environment, e.g. changing env variable CUDA_VISIBLE_DEVICES after program start. Setting the available devices to be zero. (Triggered internally at  ..\\c10\\cuda\\CUDAFunctions.cpp:112.)\n",
            "  return torch._C._cuda_getDeviceCount() > 0\n"
          ]
        },
        {
          "data": {
            "text/plain": [
              "False"
            ]
          },
          "execution_count": 38,
          "metadata": {},
          "output_type": "execute_result"
        }
      ],
      "source": [
        "torch.cuda.is_available()"
      ]
    },
    {
      "cell_type": "code",
      "execution_count": null,
      "id": "4dff2649",
      "metadata": {
        "id": "4dff2649",
        "outputId": "d42409a7-1ff1-472e-a5e5-ec1e7d816c84"
      },
      "outputs": [
        {
          "data": {
            "text/plain": [
              "'11.3'"
            ]
          },
          "execution_count": 39,
          "metadata": {},
          "output_type": "execute_result"
        }
      ],
      "source": [
        "torch.version.cuda"
      ]
    },
    {
      "cell_type": "code",
      "execution_count": null,
      "id": "6c91a367",
      "metadata": {
        "id": "6c91a367",
        "outputId": "567ae468-e3ea-42e7-f171-aea7eabdb78d"
      },
      "outputs": [
        {
          "ename": "RuntimeError",
          "evalue": "CUDA unknown error - this may be due to an incorrectly set up environment, e.g. changing env variable CUDA_VISIBLE_DEVICES after program start. Setting the available devices to be zero.",
          "output_type": "error",
          "traceback": [
            "\u001b[1;31m---------------------------------------------------------------------------\u001b[0m",
            "\u001b[1;31mRuntimeError\u001b[0m                              Traceback (most recent call last)",
            "\u001b[1;32m<ipython-input-40-3380d2c12118>\u001b[0m in \u001b[0;36m<module>\u001b[1;34m\u001b[0m\n\u001b[1;32m----> 1\u001b[1;33m \u001b[0mtorch\u001b[0m\u001b[1;33m.\u001b[0m\u001b[0mcuda\u001b[0m\u001b[1;33m.\u001b[0m\u001b[0mcurrent_device\u001b[0m\u001b[1;33m(\u001b[0m\u001b[1;33m)\u001b[0m\u001b[1;33m\u001b[0m\u001b[1;33m\u001b[0m\u001b[0m\n\u001b[0m",
            "\u001b[1;32mC:\\ProgramData\\Anaconda3\\lib\\site-packages\\torch\\cuda\\__init__.py\u001b[0m in \u001b[0;36mcurrent_device\u001b[1;34m()\u001b[0m\n\u001b[0;32m    477\u001b[0m \u001b[1;32mdef\u001b[0m \u001b[0mcurrent_device\u001b[0m\u001b[1;33m(\u001b[0m\u001b[1;33m)\u001b[0m \u001b[1;33m->\u001b[0m \u001b[0mint\u001b[0m\u001b[1;33m:\u001b[0m\u001b[1;33m\u001b[0m\u001b[1;33m\u001b[0m\u001b[0m\n\u001b[0;32m    478\u001b[0m     \u001b[1;34mr\"\"\"Returns the index of a currently selected device.\"\"\"\u001b[0m\u001b[1;33m\u001b[0m\u001b[1;33m\u001b[0m\u001b[0m\n\u001b[1;32m--> 479\u001b[1;33m     \u001b[0m_lazy_init\u001b[0m\u001b[1;33m(\u001b[0m\u001b[1;33m)\u001b[0m\u001b[1;33m\u001b[0m\u001b[1;33m\u001b[0m\u001b[0m\n\u001b[0m\u001b[0;32m    480\u001b[0m     \u001b[1;32mreturn\u001b[0m \u001b[0mtorch\u001b[0m\u001b[1;33m.\u001b[0m\u001b[0m_C\u001b[0m\u001b[1;33m.\u001b[0m\u001b[0m_cuda_getDevice\u001b[0m\u001b[1;33m(\u001b[0m\u001b[1;33m)\u001b[0m\u001b[1;33m\u001b[0m\u001b[1;33m\u001b[0m\u001b[0m\n\u001b[0;32m    481\u001b[0m \u001b[1;33m\u001b[0m\u001b[0m\n",
            "\u001b[1;32mC:\\ProgramData\\Anaconda3\\lib\\site-packages\\torch\\cuda\\__init__.py\u001b[0m in \u001b[0;36m_lazy_init\u001b[1;34m()\u001b[0m\n\u001b[0;32m    212\u001b[0m         \u001b[1;31m# This function throws if there's a driver initialization error, no GPUs\u001b[0m\u001b[1;33m\u001b[0m\u001b[1;33m\u001b[0m\u001b[1;33m\u001b[0m\u001b[0m\n\u001b[0;32m    213\u001b[0m         \u001b[1;31m# are found or any other error occurs\u001b[0m\u001b[1;33m\u001b[0m\u001b[1;33m\u001b[0m\u001b[1;33m\u001b[0m\u001b[0m\n\u001b[1;32m--> 214\u001b[1;33m         \u001b[0mtorch\u001b[0m\u001b[1;33m.\u001b[0m\u001b[0m_C\u001b[0m\u001b[1;33m.\u001b[0m\u001b[0m_cuda_init\u001b[0m\u001b[1;33m(\u001b[0m\u001b[1;33m)\u001b[0m\u001b[1;33m\u001b[0m\u001b[1;33m\u001b[0m\u001b[0m\n\u001b[0m\u001b[0;32m    215\u001b[0m         \u001b[1;31m# Some of the queued calls may reentrantly call _lazy_init();\u001b[0m\u001b[1;33m\u001b[0m\u001b[1;33m\u001b[0m\u001b[1;33m\u001b[0m\u001b[0m\n\u001b[0;32m    216\u001b[0m         \u001b[1;31m# we need to just return without initializing in that case.\u001b[0m\u001b[1;33m\u001b[0m\u001b[1;33m\u001b[0m\u001b[1;33m\u001b[0m\u001b[0m\n",
            "\u001b[1;31mRuntimeError\u001b[0m: CUDA unknown error - this may be due to an incorrectly set up environment, e.g. changing env variable CUDA_VISIBLE_DEVICES after program start. Setting the available devices to be zero."
          ]
        }
      ],
      "source": [
        "torch.cuda.current_device()"
      ]
    },
    {
      "cell_type": "code",
      "execution_count": null,
      "id": "5b31c6af",
      "metadata": {
        "id": "5b31c6af"
      },
      "outputs": [],
      "source": [
        "!conda env list"
      ]
    },
    {
      "cell_type": "code",
      "execution_count": null,
      "id": "83607a2d",
      "metadata": {
        "id": "83607a2d"
      },
      "outputs": [],
      "source": [
        ""
      ]
    }
  ],
  "metadata": {
    "kernelspec": {
      "display_name": "Python 3",
      "language": "python",
      "name": "python3"
    },
    "language_info": {
      "codemirror_mode": {
        "name": "ipython",
        "version": 3
      },
      "file_extension": ".py",
      "mimetype": "text/x-python",
      "name": "python",
      "nbconvert_exporter": "python",
      "pygments_lexer": "ipython3",
      "version": "3.8.8"
    },
    "colab": {
      "name": "01_tensor.py.ipynb",
      "provenance": [],
      "include_colab_link": true
    }
  },
  "nbformat": 4,
  "nbformat_minor": 5
}