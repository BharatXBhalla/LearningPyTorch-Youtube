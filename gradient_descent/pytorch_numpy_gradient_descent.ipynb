{
  "nbformat": 4,
  "nbformat_minor": 0,
  "metadata": {
    "colab": {
      "name": "pytorch_numpy_gradient_descent.ipynb",
      "provenance": [],
      "collapsed_sections": [],
      "authorship_tag": "ABX9TyNskSH2abDTePyf7P6bXsgQ",
      "include_colab_link": true
    },
    "kernelspec": {
      "name": "python3",
      "display_name": "Python 3"
    },
    "language_info": {
      "name": "python"
    }
  },
  "cells": [
    {
      "cell_type": "markdown",
      "metadata": {
        "id": "view-in-github",
        "colab_type": "text"
      },
      "source": [
        "<a href=\"https://colab.research.google.com/github/BharatXBhalla/LearningPyTorch-Youtube/blob/main/gradient_descent/pytorch_numpy_gradient_descent.ipynb\" target=\"_parent\"><img src=\"https://colab.research.google.com/assets/colab-badge.svg\" alt=\"Open In Colab\"/></a>"
      ]
    },
    {
      "cell_type": "code",
      "execution_count": 1,
      "metadata": {
        "id": "eCNXG99Ci6S0"
      },
      "outputs": [],
      "source": [
        "import numpy as np"
      ]
    },
    {
      "cell_type": "code",
      "source": [
        "x = np.array([1,2,3,4])\n",
        "y = np.array([2,4,6,8])"
      ],
      "metadata": {
        "id": "wzy-3uYJljee"
      },
      "execution_count": 2,
      "outputs": []
    },
    {
      "cell_type": "code",
      "source": [
        "w = 0.0"
      ],
      "metadata": {
        "id": "RvW6zYZ6lzDc"
      },
      "execution_count": 3,
      "outputs": []
    },
    {
      "cell_type": "code",
      "source": [
        "def forward(x):\n",
        "  return w*x\n",
        "\n",
        "def loss(y,y_pred):\n",
        "  return ((y-y_pred)**2).mean()\n"
      ],
      "metadata": {
        "id": "P90O7EcPl1NT"
      },
      "execution_count": 4,
      "outputs": []
    },
    {
      "cell_type": "code",
      "source": [
        "def gradient(x,y,y_pred):\n",
        "  return np.dot(2*x,y_pred-y).mean()"
      ],
      "metadata": {
        "id": "TrKirjovmKJp"
      },
      "execution_count": 7,
      "outputs": []
    },
    {
      "cell_type": "code",
      "source": [
        "print(\"Function(5): \",forward(5))"
      ],
      "metadata": {
        "colab": {
          "base_uri": "https://localhost:8080/"
        },
        "id": "xAN2sRiNmbtS",
        "outputId": "d1f5c2c5-bad9-4c97-9863-9cb5ca338b74"
      },
      "execution_count": 6,
      "outputs": [
        {
          "output_type": "stream",
          "name": "stdout",
          "text": [
            "Function(5):  0.0\n"
          ]
        }
      ]
    },
    {
      "cell_type": "code",
      "source": [
        "learning_rate = 0.01\n",
        "n_iters =10"
      ],
      "metadata": {
        "id": "Yq_VuBXtn1pn"
      },
      "execution_count": 9,
      "outputs": []
    },
    {
      "cell_type": "code",
      "source": [
        "for epoch in range(n_iters):\n",
        "  y_pred = forward(x)\n",
        "\n",
        "  l=loss(y,y_pred)\n",
        "\n",
        "  dw = gradient(x,y,y_pred)\n",
        "\n",
        "  w-=learning_rate*dw\n",
        "\n",
        "  if epoch%1==0:\n",
        "    print(\"epoch \",(epoch+1), \"loss = \",l)"
      ],
      "metadata": {
        "colab": {
          "base_uri": "https://localhost:8080/"
        },
        "id": "C_RZU6rrn8fY",
        "outputId": "846781e8-74bf-4633-fe12-10efc386c7c4"
      },
      "execution_count": 11,
      "outputs": [
        {
          "output_type": "stream",
          "name": "stdout",
          "text": [
            "epoch  1 loss =  30.0\n",
            "epoch  2 loss =  4.800000000000001\n",
            "epoch  3 loss =  0.7680000000000002\n",
            "epoch  4 loss =  0.12288000000000023\n",
            "epoch  5 loss =  0.019660800000000138\n",
            "epoch  6 loss =  0.0031457280000000165\n",
            "epoch  7 loss =  0.0005033164799999944\n",
            "epoch  8 loss =  8.053063680000391e-05\n",
            "epoch  9 loss =  1.2884901887999318e-05\n",
            "epoch  10 loss =  2.061584302080135e-06\n"
          ]
        }
      ]
    },
    {
      "cell_type": "code",
      "source": [
        "print(\"Function(5): \",forward(5))"
      ],
      "metadata": {
        "colab": {
          "base_uri": "https://localhost:8080/"
        },
        "id": "9rLFkg_rodbZ",
        "outputId": "8bf57822-12a8-4825-90fb-0fdeee719aa6"
      },
      "execution_count": 12,
      "outputs": [
        {
          "output_type": "stream",
          "name": "stdout",
          "text": [
            "Function(5):  9.998951424\n"
          ]
        }
      ]
    },
    {
      "cell_type": "code",
      "source": [
        ""
      ],
      "metadata": {
        "id": "3sqUjy9LohO9"
      },
      "execution_count": null,
      "outputs": []
    }
  ]
}