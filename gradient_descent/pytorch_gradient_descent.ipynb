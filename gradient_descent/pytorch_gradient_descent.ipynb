{
  "nbformat": 4,
  "nbformat_minor": 0,
  "metadata": {
    "colab": {
      "name": "pytorch_gradient_descent.ipynb",
      "provenance": [],
      "collapsed_sections": [],
      "authorship_tag": "ABX9TyNwK7+yJnsFYGvd6uvkKtZ1",
      "include_colab_link": true
    },
    "kernelspec": {
      "name": "python3",
      "display_name": "Python 3"
    },
    "language_info": {
      "name": "python"
    }
  },
  "cells": [
    {
      "cell_type": "markdown",
      "metadata": {
        "id": "view-in-github",
        "colab_type": "text"
      },
      "source": [
        "<a href=\"https://colab.research.google.com/github/BharatXBhalla/LearningPyTorch-Youtube/blob/main/gradient_descent/pytorch_gradient_descent.ipynb\" target=\"_parent\"><img src=\"https://colab.research.google.com/assets/colab-badge.svg\" alt=\"Open In Colab\"/></a>"
      ]
    },
    {
      "cell_type": "code",
      "execution_count": 1,
      "metadata": {
        "id": "abHTx6m0ozWv"
      },
      "outputs": [],
      "source": [
        "import torch"
      ]
    },
    {
      "cell_type": "code",
      "source": [
        "x = torch.tensor([1,2,3,4])\n",
        "y = torch.tensor([2,4,6,8])"
      ],
      "metadata": {
        "id": "buMkNFheo0on"
      },
      "execution_count": 3,
      "outputs": []
    },
    {
      "cell_type": "code",
      "source": [
        "w = torch.tensor(0.0,requires_grad=True)"
      ],
      "metadata": {
        "id": "9oX9ilkNo18d"
      },
      "execution_count": 4,
      "outputs": []
    },
    {
      "cell_type": "code",
      "source": [
        "def forward(x):\n",
        "  return w*x\n",
        "\n",
        "def loss(y,y_pred):\n",
        "  return ((y-y_pred)**2).mean()\n"
      ],
      "metadata": {
        "id": "4hDB0LzBpBbZ"
      },
      "execution_count": 5,
      "outputs": []
    },
    {
      "cell_type": "code",
      "source": [
        "print(\"Function(5): \",forward(5))"
      ],
      "metadata": {
        "colab": {
          "base_uri": "https://localhost:8080/"
        },
        "id": "I5S2GQuApCr-",
        "outputId": "d121b48b-13c8-45a8-b5b5-2a67f9aef963"
      },
      "execution_count": 6,
      "outputs": [
        {
          "output_type": "stream",
          "name": "stdout",
          "text": [
            "Function(5):  tensor(0., grad_fn=<MulBackward0>)\n"
          ]
        }
      ]
    },
    {
      "cell_type": "code",
      "source": [
        "learning_rate = 0.01\n",
        "n_iters =100"
      ],
      "metadata": {
        "id": "58ai4g8VpEdo"
      },
      "execution_count": 12,
      "outputs": []
    },
    {
      "cell_type": "code",
      "source": [
        "for epoch in range(n_iters):\n",
        "  y_pred = forward(x)\n",
        "\n",
        "  l=loss(y,y_pred)\n",
        "\n",
        "  #gradient\n",
        "  l.backward()\n",
        "\n",
        "  with torch.no_grad():\n",
        "    w-=learning_rate* w.grad\n",
        "  w.grad.zero_()\n",
        "  if epoch%10==0:\n",
        "    print(\"epoch \",(epoch+1), \"loss = \",l)"
      ],
      "metadata": {
        "colab": {
          "base_uri": "https://localhost:8080/"
        },
        "id": "7aMBpiLfpGPK",
        "outputId": "b3b1ed17-c8ce-4669-93e9-78119659c135"
      },
      "execution_count": 13,
      "outputs": [
        {
          "output_type": "stream",
          "name": "stdout",
          "text": [
            "epoch  1 loss =  tensor(0.0306, grad_fn=<MeanBackward0>)\n",
            "epoch  11 loss =  tensor(0.0012, grad_fn=<MeanBackward0>)\n",
            "epoch  21 loss =  tensor(4.5921e-05, grad_fn=<MeanBackward0>)\n",
            "epoch  31 loss =  tensor(1.7802e-06, grad_fn=<MeanBackward0>)\n",
            "epoch  41 loss =  tensor(6.9085e-08, grad_fn=<MeanBackward0>)\n",
            "epoch  51 loss =  tensor(2.6540e-09, grad_fn=<MeanBackward0>)\n",
            "epoch  61 loss =  tensor(1.0177e-10, grad_fn=<MeanBackward0>)\n",
            "epoch  71 loss =  tensor(3.5953e-12, grad_fn=<MeanBackward0>)\n",
            "epoch  81 loss =  tensor(8.9884e-13, grad_fn=<MeanBackward0>)\n",
            "epoch  91 loss =  tensor(8.9884e-13, grad_fn=<MeanBackward0>)\n"
          ]
        }
      ]
    },
    {
      "cell_type": "code",
      "source": [
        "print(\"Function(5): \",forward(5))"
      ],
      "metadata": {
        "colab": {
          "base_uri": "https://localhost:8080/"
        },
        "id": "g9L9j-gJpaYY",
        "outputId": "75aaff15-bbe4-4524-d1ba-3a5dbb2692b5"
      },
      "execution_count": 14,
      "outputs": [
        {
          "output_type": "stream",
          "name": "stdout",
          "text": [
            "Function(5):  tensor(10.0000, grad_fn=<MulBackward0>)\n"
          ]
        }
      ]
    },
    {
      "cell_type": "code",
      "source": [
        ""
      ],
      "metadata": {
        "id": "zbB0JWLhpfHL"
      },
      "execution_count": null,
      "outputs": []
    }
  ]
}