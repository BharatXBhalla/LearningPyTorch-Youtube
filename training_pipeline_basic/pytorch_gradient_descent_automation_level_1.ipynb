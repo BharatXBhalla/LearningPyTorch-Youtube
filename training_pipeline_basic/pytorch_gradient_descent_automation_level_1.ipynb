{
  "nbformat": 4,
  "nbformat_minor": 0,
  "metadata": {
    "colab": {
      "name": "pytorch_gradient_descent_automation_level_1.ipynb",
      "provenance": [],
      "collapsed_sections": [],
      "authorship_tag": "ABX9TyOFc1V7YnTe+VGAbRhtLoeY",
      "include_colab_link": true
    },
    "kernelspec": {
      "name": "python3",
      "display_name": "Python 3"
    },
    "language_info": {
      "name": "python"
    }
  },
  "cells": [
    {
      "cell_type": "markdown",
      "metadata": {
        "id": "view-in-github",
        "colab_type": "text"
      },
      "source": [
        "<a href=\"https://colab.research.google.com/github/BharatXBhalla/LearningPyTorch-Youtube/blob/main/training_pipeline_basic/pytorch_gradient_descent_automation_level_1.ipynb\" target=\"_parent\"><img src=\"https://colab.research.google.com/assets/colab-badge.svg\" alt=\"Open In Colab\"/></a>"
      ]
    },
    {
      "cell_type": "code",
      "execution_count": 2,
      "metadata": {
        "id": "vVkw9PdPsM2L"
      },
      "outputs": [],
      "source": [
        "import torch\n",
        "import torch.nn as nn"
      ]
    },
    {
      "cell_type": "code",
      "source": [
        "X= torch.tensor([1,2,3,4],dtype=torch.float32)\n",
        "Y=torch.tensor([2,4,6,8],dtype=torch.float32)"
      ],
      "metadata": {
        "id": "yKiAXE9PsyRT"
      },
      "execution_count": 19,
      "outputs": []
    },
    {
      "cell_type": "code",
      "source": [
        "w = torch.tensor(0.0,dtype=torch.float32,requires_grad=True)"
      ],
      "metadata": {
        "id": "WWqt4LW9tQhy"
      },
      "execution_count": 20,
      "outputs": []
    },
    {
      "cell_type": "code",
      "source": [
        "def forward(x):\n",
        "  return w*x"
      ],
      "metadata": {
        "id": "oZ6K4sM4tVR-"
      },
      "execution_count": 6,
      "outputs": []
    },
    {
      "cell_type": "code",
      "source": [
        "forward(X)"
      ],
      "metadata": {
        "colab": {
          "base_uri": "https://localhost:8080/"
        },
        "id": "xiYxsm3OtZXy",
        "outputId": "53cd94cc-1a16-4a5c-f40f-7fa74b01e3e8"
      },
      "execution_count": 7,
      "outputs": [
        {
          "output_type": "execute_result",
          "data": {
            "text/plain": [
              "tensor([0., 0., 0., 0.], grad_fn=<MulBackward0>)"
            ]
          },
          "metadata": {},
          "execution_count": 7
        }
      ]
    },
    {
      "cell_type": "code",
      "source": [
        "learning_rate = 0.01\n",
        "n_iters =100"
      ],
      "metadata": {
        "id": "30IQ1LlGterD"
      },
      "execution_count": 21,
      "outputs": []
    },
    {
      "cell_type": "code",
      "source": [
        "loss = nn.MSELoss()\n",
        "optimizer = torch.optim.SGD([w],lr=learning_rate)"
      ],
      "metadata": {
        "id": "gxhPT4ygtj6z"
      },
      "execution_count": 22,
      "outputs": []
    },
    {
      "cell_type": "code",
      "source": [
        "for epoch in range(n_iters):\n",
        "  \n",
        "  y_pred = forward(X)\n",
        "\n",
        "  l = loss(Y,y_pred)\n",
        "\n",
        "  l.backward()\n",
        "\n",
        "  optimizer.step()\n",
        "\n",
        "  optimizer.zero_grad()\n",
        "\n",
        "  if epoch%10 ==0:\n",
        "    print(\"epoch \",epoch,\" \",\"loss = \",l)"
      ],
      "metadata": {
        "colab": {
          "base_uri": "https://localhost:8080/"
        },
        "id": "rMpPwlcZtvTq",
        "outputId": "89cc6bb2-626a-427c-c66f-6c875c627caf"
      },
      "execution_count": 23,
      "outputs": [
        {
          "output_type": "stream",
          "name": "stdout",
          "text": [
            "epoch  0   loss =  tensor(30., grad_fn=<MseLossBackward0>)\n",
            "epoch  10   loss =  tensor(1.1628, grad_fn=<MseLossBackward0>)\n",
            "epoch  20   loss =  tensor(0.0451, grad_fn=<MseLossBackward0>)\n",
            "epoch  30   loss =  tensor(0.0017, grad_fn=<MseLossBackward0>)\n",
            "epoch  40   loss =  tensor(6.7705e-05, grad_fn=<MseLossBackward0>)\n",
            "epoch  50   loss =  tensor(2.6244e-06, grad_fn=<MseLossBackward0>)\n",
            "epoch  60   loss =  tensor(1.0176e-07, grad_fn=<MseLossBackward0>)\n",
            "epoch  70   loss =  tensor(3.9742e-09, grad_fn=<MseLossBackward0>)\n",
            "epoch  80   loss =  tensor(1.4670e-10, grad_fn=<MseLossBackward0>)\n",
            "epoch  90   loss =  tensor(5.0768e-12, grad_fn=<MseLossBackward0>)\n"
          ]
        }
      ]
    },
    {
      "cell_type": "code",
      "source": [
        "forward(X)"
      ],
      "metadata": {
        "colab": {
          "base_uri": "https://localhost:8080/"
        },
        "id": "JLn45e86uXTj",
        "outputId": "7273cd05-3689-4af1-dff9-59c5982e1152"
      },
      "execution_count": 24,
      "outputs": [
        {
          "output_type": "execute_result",
          "data": {
            "text/plain": [
              "tensor([2.0000, 4.0000, 6.0000, 8.0000], grad_fn=<MulBackward0>)"
            ]
          },
          "metadata": {},
          "execution_count": 24
        }
      ]
    },
    {
      "cell_type": "code",
      "source": [
        ""
      ],
      "metadata": {
        "id": "Y9WHy3Yau-iz"
      },
      "execution_count": null,
      "outputs": []
    }
  ]
}