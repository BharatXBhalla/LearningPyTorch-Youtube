{
  "nbformat": 4,
  "nbformat_minor": 0,
  "metadata": {
    "colab": {
      "name": "pytorch_gradient_descent_automation_level_2.ipynb",
      "provenance": [],
      "collapsed_sections": [],
      "authorship_tag": "ABX9TyNH5pvF4PTDTT0uYYk3NSOT",
      "include_colab_link": true
    },
    "kernelspec": {
      "name": "python3",
      "display_name": "Python 3"
    },
    "language_info": {
      "name": "python"
    }
  },
  "cells": [
    {
      "cell_type": "markdown",
      "metadata": {
        "id": "view-in-github",
        "colab_type": "text"
      },
      "source": [
        "<a href=\"https://colab.research.google.com/github/BharatXBhalla/LearningPyTorch-Youtube/blob/main/training_pipeline_basic/pytorch_gradient_descent_automation_level_2.ipynb\" target=\"_parent\"><img src=\"https://colab.research.google.com/assets/colab-badge.svg\" alt=\"Open In Colab\"/></a>"
      ]
    },
    {
      "cell_type": "code",
      "execution_count": null,
      "metadata": {
        "id": "IApqfpp9wgRk"
      },
      "outputs": [],
      "source": [
        "import torch \n",
        "import torch.nn as nn"
      ]
    },
    {
      "cell_type": "code",
      "source": [
        "X = torch.tensor([[1],[2],[3],[4]],dtype=torch.float32)\n",
        "Y = torch.tensor([[2],[4],[6],[8]],dtype=torch.float32)"
      ],
      "metadata": {
        "id": "k2o9o0XUwmmV"
      },
      "execution_count": null,
      "outputs": []
    },
    {
      "cell_type": "code",
      "source": [
        "X_Test = torch.tensor([5],dtype=torch.float32)"
      ],
      "metadata": {
        "id": "lx3hEbovw1Yl"
      },
      "execution_count": null,
      "outputs": []
    },
    {
      "cell_type": "code",
      "source": [
        "n_samples,n_feature = X.shape\n",
        "model = nn.Linear(n_feature,1)"
      ],
      "metadata": {
        "id": "3yt7OSfbw7tM"
      },
      "execution_count": null,
      "outputs": []
    },
    {
      "cell_type": "code",
      "source": [
        "model(X_Test)"
      ],
      "metadata": {
        "colab": {
          "base_uri": "https://localhost:8080/"
        },
        "id": "HjSwGSnCxVS2",
        "outputId": "70e03fd9-6ad2-40c5-c56c-3013008de751"
      },
      "execution_count": null,
      "outputs": [
        {
          "output_type": "execute_result",
          "data": {
            "text/plain": [
              "tensor([1.3720], grad_fn=<AddBackward0>)"
            ]
          },
          "metadata": {},
          "execution_count": 7
        }
      ]
    },
    {
      "cell_type": "code",
      "source": [
        "model(X)"
      ],
      "metadata": {
        "colab": {
          "base_uri": "https://localhost:8080/"
        },
        "id": "FSZsgRLGxYI9",
        "outputId": "0540c5e3-8b21-4251-ca77-347ea54d2214"
      },
      "execution_count": null,
      "outputs": [
        {
          "output_type": "execute_result",
          "data": {
            "text/plain": [
              "tensor([[0.3364],\n",
              "        [0.5953],\n",
              "        [0.8542],\n",
              "        [1.1131]], grad_fn=<AddmmBackward0>)"
            ]
          },
          "metadata": {},
          "execution_count": 8
        }
      ]
    },
    {
      "cell_type": "code",
      "source": [
        "Y"
      ],
      "metadata": {
        "colab": {
          "base_uri": "https://localhost:8080/"
        },
        "id": "nt8cIWFvxgpO",
        "outputId": "eb1105dd-3af9-4d79-912b-73bdcf7f1770"
      },
      "execution_count": null,
      "outputs": [
        {
          "output_type": "execute_result",
          "data": {
            "text/plain": [
              "tensor([[2.],\n",
              "        [4.],\n",
              "        [6.],\n",
              "        [8.]])"
            ]
          },
          "metadata": {},
          "execution_count": 9
        }
      ]
    },
    {
      "cell_type": "code",
      "source": [
        "loss = nn.MSELoss()\n",
        "optimizer = torch.optim.SGD(model.parameters(),lr=0.01)"
      ],
      "metadata": {
        "id": "tsSfMK-vxh9A"
      },
      "execution_count": null,
      "outputs": []
    },
    {
      "cell_type": "code",
      "source": [
        "model.parameters()"
      ],
      "metadata": {
        "colab": {
          "base_uri": "https://localhost:8080/"
        },
        "id": "2IRua2ypxupc",
        "outputId": "5f9d148e-2502-4edc-c53a-ee80b39e2977"
      },
      "execution_count": null,
      "outputs": [
        {
          "output_type": "execute_result",
          "data": {
            "text/plain": [
              "<generator object Module.parameters at 0x7f8d3c96af50>"
            ]
          },
          "metadata": {},
          "execution_count": 10
        }
      ]
    },
    {
      "cell_type": "code",
      "source": [
        "for epoch in range(1000):\n",
        "  y_pred = model(X)\n",
        "\n",
        "  l = loss(Y,y_pred)\n",
        "\n",
        "  l.backward()\n",
        "\n",
        "  optimizer.step()\n",
        "\n",
        "  optimizer.zero_grad()\n",
        "\n",
        "  if epoch %100 ==0:\n",
        "    print(\"Epoch \",epoch,\" \",\"Loss = \",l)\n"
      ],
      "metadata": {
        "colab": {
          "base_uri": "https://localhost:8080/"
        },
        "id": "vMMNV064xv4v",
        "outputId": "f99baebd-81ad-4af8-f1b9-67faa94ca860"
      },
      "execution_count": null,
      "outputs": [
        {
          "output_type": "stream",
          "name": "stdout",
          "text": [
            "Epoch  0   Loss =  tensor(8.2134e-05, grad_fn=<MseLossBackward0>)\n",
            "Epoch  100   Loss =  tensor(4.5090e-05, grad_fn=<MseLossBackward0>)\n",
            "Epoch  200   Loss =  tensor(2.4755e-05, grad_fn=<MseLossBackward0>)\n",
            "Epoch  300   Loss =  tensor(1.3590e-05, grad_fn=<MseLossBackward0>)\n",
            "Epoch  400   Loss =  tensor(7.4610e-06, grad_fn=<MseLossBackward0>)\n",
            "Epoch  500   Loss =  tensor(4.0962e-06, grad_fn=<MseLossBackward0>)\n",
            "Epoch  600   Loss =  tensor(2.2488e-06, grad_fn=<MseLossBackward0>)\n",
            "Epoch  700   Loss =  tensor(1.2349e-06, grad_fn=<MseLossBackward0>)\n",
            "Epoch  800   Loss =  tensor(6.7819e-07, grad_fn=<MseLossBackward0>)\n",
            "Epoch  900   Loss =  tensor(3.7239e-07, grad_fn=<MseLossBackward0>)\n"
          ]
        }
      ]
    },
    {
      "cell_type": "code",
      "source": [
        "model(X)"
      ],
      "metadata": {
        "colab": {
          "base_uri": "https://localhost:8080/"
        },
        "id": "GIGYw7xNySZB",
        "outputId": "ac238da8-aa8a-4554-a8db-3ca27ac1583c"
      },
      "execution_count": null,
      "outputs": [
        {
          "output_type": "execute_result",
          "data": {
            "text/plain": [
              "tensor([[2.0007],\n",
              "        [4.0004],\n",
              "        [6.0000],\n",
              "        [7.9996]], grad_fn=<AddmmBackward0>)"
            ]
          },
          "metadata": {},
          "execution_count": 18
        }
      ]
    },
    {
      "cell_type": "code",
      "source": [
        "Y"
      ],
      "metadata": {
        "colab": {
          "base_uri": "https://localhost:8080/"
        },
        "id": "oy8jLQI8yUCj",
        "outputId": "429ede0b-bbd5-4ee1-a83f-33d9b51b6e9c"
      },
      "execution_count": null,
      "outputs": [
        {
          "output_type": "execute_result",
          "data": {
            "text/plain": [
              "tensor([[2.],\n",
              "        [4.],\n",
              "        [6.],\n",
              "        [8.]])"
            ]
          },
          "metadata": {},
          "execution_count": 19
        }
      ]
    },
    {
      "cell_type": "code",
      "source": [
        ""
      ],
      "metadata": {
        "id": "URdJxl_XyVE2"
      },
      "execution_count": null,
      "outputs": []
    }
  ]
}