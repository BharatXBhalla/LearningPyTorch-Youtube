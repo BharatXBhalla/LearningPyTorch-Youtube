{
  "nbformat": 4,
  "nbformat_minor": 0,
  "metadata": {
    "colab": {
      "name": "pytorch_backpropagration.ipynb",
      "provenance": [],
      "authorship_tag": "ABX9TyNu0l26kDDTnDQn6CMnVaAe",
      "include_colab_link": true
    },
    "kernelspec": {
      "name": "python3",
      "display_name": "Python 3"
    },
    "language_info": {
      "name": "python"
    }
  },
  "cells": [
    {
      "cell_type": "markdown",
      "metadata": {
        "id": "view-in-github",
        "colab_type": "text"
      },
      "source": [
        "<a href=\"https://colab.research.google.com/github/BharatXBhalla/LearningPyTorch-Youtube/blob/main/backpropagation/pytorch_backpropagration.ipynb\" target=\"_parent\"><img src=\"https://colab.research.google.com/assets/colab-badge.svg\" alt=\"Open In Colab\"/></a>"
      ]
    },
    {
      "cell_type": "code",
      "execution_count": 1,
      "metadata": {
        "id": "KNHaFqngY3S3"
      },
      "outputs": [],
      "source": [
        "import torch"
      ]
    },
    {
      "cell_type": "code",
      "source": [
        "x = torch.tensor(8.0)\n",
        "y = torch.tensor(2.0)\n",
        "\n",
        "w = torch.tensor(1.0,requires_grad=True)\n",
        "\n",
        "#forward Pass and compute loss\n",
        "y_hat = w * x\n",
        "loss = (y_hat - y)**2\n",
        "\n",
        "print(loss)\n",
        "\n",
        "#backward pass\n",
        "loss.backward()\n",
        "\n",
        "print(w.grad)"
      ],
      "metadata": {
        "colab": {
          "base_uri": "https://localhost:8080/"
        },
        "id": "ahPPC5oDZAIr",
        "outputId": "92a9e31b-4d0f-4fc2-ab7c-67f28e50b055"
      },
      "execution_count": 12,
      "outputs": [
        {
          "output_type": "stream",
          "name": "stdout",
          "text": [
            "tensor(36., grad_fn=<PowBackward0>)\n",
            "tensor(96.)\n"
          ]
        }
      ]
    },
    {
      "cell_type": "code",
      "source": [
        "x = torch.tensor([8.0,8.0])\n",
        "y = torch.tensor([2.0,2.0])\n",
        "\n",
        "w = torch.tensor([1.0,1.0],requires_grad=True)\n",
        "\n",
        "#forward Pass and compute loss\n",
        "y_hat = w * x\n",
        "loss = (y_hat - y)**2\n",
        "loss"
      ],
      "metadata": {
        "colab": {
          "base_uri": "https://localhost:8080/"
        },
        "id": "j7glZ5NUa5LY",
        "outputId": "7a90e99f-7ae9-4423-ef33-1a5c30b63c5e"
      },
      "execution_count": 20,
      "outputs": [
        {
          "output_type": "execute_result",
          "data": {
            "text/plain": [
              "tensor([36., 36.], grad_fn=<PowBackward0>)"
            ]
          },
          "metadata": {},
          "execution_count": 20
        }
      ]
    },
    {
      "cell_type": "code",
      "source": [
        "#backward pass\n",
        "loss.backward(y)\n",
        "w.grad"
      ],
      "metadata": {
        "colab": {
          "base_uri": "https://localhost:8080/"
        },
        "id": "lbT-4snVbERG",
        "outputId": "dd8a9e6c-a668-4f77-a0f8-597256628e94"
      },
      "execution_count": 21,
      "outputs": [
        {
          "output_type": "execute_result",
          "data": {
            "text/plain": [
              "tensor([192., 192.])"
            ]
          },
          "metadata": {},
          "execution_count": 21
        }
      ]
    },
    {
      "cell_type": "code",
      "source": [
        "w.grad.zero_()"
      ],
      "metadata": {
        "colab": {
          "base_uri": "https://localhost:8080/"
        },
        "id": "AZmKof69bHIu",
        "outputId": "dda45894-dd30-4bf2-a3cf-9b5098762086"
      },
      "execution_count": 22,
      "outputs": [
        {
          "output_type": "execute_result",
          "data": {
            "text/plain": [
              "tensor([0., 0.])"
            ]
          },
          "metadata": {},
          "execution_count": 22
        }
      ]
    },
    {
      "cell_type": "code",
      "source": [
        ""
      ],
      "metadata": {
        "id": "WvEWXZcEblZx"
      },
      "execution_count": null,
      "outputs": []
    }
  ]
}