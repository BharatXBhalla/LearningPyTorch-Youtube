{
  "nbformat": 4,
  "nbformat_minor": 0,
  "metadata": {
    "colab": {
      "name": "Building RNN  Scratch_attempt.ipynb",
      "provenance": [],
      "collapsed_sections": [],
      "authorship_tag": "ABX9TyORzt+E5btn6t+vet9E53OF",
      "include_colab_link": true
    },
    "kernelspec": {
      "name": "python3",
      "display_name": "Python 3"
    },
    "language_info": {
      "name": "python"
    }
  },
  "cells": [
    {
      "cell_type": "markdown",
      "metadata": {
        "id": "view-in-github",
        "colab_type": "text"
      },
      "source": [
        "<a href=\"https://colab.research.google.com/github/BharatXBhalla/LearningPyTorch-Youtube/blob/main/Rnn/Building_RNN_Scratch_attempt.ipynb\" target=\"_parent\"><img src=\"https://colab.research.google.com/assets/colab-badge.svg\" alt=\"Open In Colab\"/></a>"
      ]
    },
    {
      "cell_type": "code",
      "execution_count": 161,
      "metadata": {
        "id": "9MD7FM10Er0z"
      },
      "outputs": [],
      "source": [
        "import torch.nn as nn\n",
        "import torch\n",
        "import torch.nn.functional as F"
      ]
    },
    {
      "cell_type": "code",
      "source": [
        "class RNN(nn.Module):\n",
        "  def __init__(self,input_size,hidden_size,output_size):\n",
        "    super().__init__()\n",
        "    self.l1=nn.Linear(input_size+hidden_size,64)\n",
        "    self.l2=nn.Linear(64,32)\n",
        "    self.l3=nn.Linear(32,hidden_size)\n",
        "    self.l4=nn.Linear(hidden_size,output_size)\n",
        "\n",
        "  def forward(self,input,hidden_state):\n",
        "    x=torch.cat((input,hidden_state),dim=0)\n",
        "    x=self.l1(x)\n",
        "    x=F.relu(self.l2(x))\n",
        "    next_hidden_state=F.relu(self.l3(x))\n",
        "    x=F.relu(self.l4(next_hidden_state))\n",
        "    x=F.softmax(x)\n",
        "\n",
        "    return next_hidden_state,x"
      ],
      "metadata": {
        "id": "5-pyR2r3Ex7b"
      },
      "execution_count": 162,
      "outputs": []
    },
    {
      "cell_type": "code",
      "source": [
        "model = RNN(26,100,26)"
      ],
      "metadata": {
        "id": "SviHCy_HE_Hs"
      },
      "execution_count": 163,
      "outputs": []
    },
    {
      "cell_type": "code",
      "source": [
        "data = [\"Bharat\",\"Bhalla\"]"
      ],
      "metadata": {
        "id": "sB-4wq8HIvkn"
      },
      "execution_count": 164,
      "outputs": []
    },
    {
      "cell_type": "code",
      "source": [
        "x=0\n",
        "for i in data:\n",
        "  l=[]\n",
        "  for j in list(i.lower()):\n",
        "    tmp=[0 for i in range(0,26)]\n",
        "    tmp[ord(j)-96-1]=1\n",
        "    l.append(tmp)\n",
        "  data[x]=l\n",
        "  x=x+1"
      ],
      "metadata": {
        "id": "S-KayTjzI0Zb"
      },
      "execution_count": 165,
      "outputs": []
    },
    {
      "cell_type": "code",
      "source": [
        "inputdata=torch.tensor(data,dtype=torch.float32)"
      ],
      "metadata": {
        "id": "ODdqIInkI8bu"
      },
      "execution_count": 166,
      "outputs": []
    },
    {
      "cell_type": "code",
      "source": [
        "inputdata.shape"
      ],
      "metadata": {
        "colab": {
          "base_uri": "https://localhost:8080/"
        },
        "id": "CT0l3pPjOtp2",
        "outputId": "9b2e0d01-c174-477a-88f7-9afd076cac62"
      },
      "execution_count": 167,
      "outputs": [
        {
          "output_type": "execute_result",
          "data": {
            "text/plain": [
              "torch.Size([2, 6, 26])"
            ]
          },
          "metadata": {},
          "execution_count": 167
        }
      ]
    },
    {
      "cell_type": "code",
      "source": [
        "outputdata = data\n",
        "\n",
        "for i in outputdata:\n",
        "  i[len(i)-1]=[0 for j in range(0,26)]"
      ],
      "metadata": {
        "id": "04Z5dDv2PEiB"
      },
      "execution_count": 168,
      "outputs": []
    },
    {
      "cell_type": "code",
      "source": [
        "outputdata=torch.tensor(outputdata,dtype=torch.float32)"
      ],
      "metadata": {
        "id": "wJZI-cYYPr0w"
      },
      "execution_count": 169,
      "outputs": []
    },
    {
      "cell_type": "code",
      "source": [
        "outputdata"
      ],
      "metadata": {
        "colab": {
          "base_uri": "https://localhost:8080/"
        },
        "id": "4uLfIBocQWKk",
        "outputId": "93094604-9950-4069-d8dc-d0ed6e522d39"
      },
      "execution_count": 170,
      "outputs": [
        {
          "output_type": "execute_result",
          "data": {
            "text/plain": [
              "tensor([[[0., 1., 0., 0., 0., 0., 0., 0., 0., 0., 0., 0., 0., 0., 0., 0., 0.,\n",
              "          0., 0., 0., 0., 0., 0., 0., 0., 0.],\n",
              "         [0., 0., 0., 0., 0., 0., 0., 1., 0., 0., 0., 0., 0., 0., 0., 0., 0.,\n",
              "          0., 0., 0., 0., 0., 0., 0., 0., 0.],\n",
              "         [1., 0., 0., 0., 0., 0., 0., 0., 0., 0., 0., 0., 0., 0., 0., 0., 0.,\n",
              "          0., 0., 0., 0., 0., 0., 0., 0., 0.],\n",
              "         [0., 0., 0., 0., 0., 0., 0., 0., 0., 0., 0., 0., 0., 0., 0., 0., 0.,\n",
              "          1., 0., 0., 0., 0., 0., 0., 0., 0.],\n",
              "         [1., 0., 0., 0., 0., 0., 0., 0., 0., 0., 0., 0., 0., 0., 0., 0., 0.,\n",
              "          0., 0., 0., 0., 0., 0., 0., 0., 0.],\n",
              "         [0., 0., 0., 0., 0., 0., 0., 0., 0., 0., 0., 0., 0., 0., 0., 0., 0.,\n",
              "          0., 0., 0., 0., 0., 0., 0., 0., 0.]],\n",
              "\n",
              "        [[0., 1., 0., 0., 0., 0., 0., 0., 0., 0., 0., 0., 0., 0., 0., 0., 0.,\n",
              "          0., 0., 0., 0., 0., 0., 0., 0., 0.],\n",
              "         [0., 0., 0., 0., 0., 0., 0., 1., 0., 0., 0., 0., 0., 0., 0., 0., 0.,\n",
              "          0., 0., 0., 0., 0., 0., 0., 0., 0.],\n",
              "         [1., 0., 0., 0., 0., 0., 0., 0., 0., 0., 0., 0., 0., 0., 0., 0., 0.,\n",
              "          0., 0., 0., 0., 0., 0., 0., 0., 0.],\n",
              "         [0., 0., 0., 0., 0., 0., 0., 0., 0., 0., 0., 1., 0., 0., 0., 0., 0.,\n",
              "          0., 0., 0., 0., 0., 0., 0., 0., 0.],\n",
              "         [0., 0., 0., 0., 0., 0., 0., 0., 0., 0., 0., 1., 0., 0., 0., 0., 0.,\n",
              "          0., 0., 0., 0., 0., 0., 0., 0., 0.],\n",
              "         [0., 0., 0., 0., 0., 0., 0., 0., 0., 0., 0., 0., 0., 0., 0., 0., 0.,\n",
              "          0., 0., 0., 0., 0., 0., 0., 0., 0.]]])"
            ]
          },
          "metadata": {},
          "execution_count": 170
        }
      ]
    },
    {
      "cell_type": "code",
      "source": [
        "from torch import optim\n",
        "\n",
        "criterion=nn.KLDivLoss()\n",
        "optimizer = optim.SGD(model.parameters(),lr=0.01)"
      ],
      "metadata": {
        "id": "1MBy0rjwQiai"
      },
      "execution_count": 173,
      "outputs": []
    },
    {
      "cell_type": "code",
      "source": [
        "num_epochs=10\n",
        "\n",
        "for i in range(0,num_epochs):\n",
        "  for j,l in zip(inputdata,outputdata):\n",
        "    inital_hidden_state=torch.zeros(100,dtype=torch.float32)\n",
        "    next_hidden_state=inital_hidden_state\n",
        "    optimizer.zero_grad()\n",
        "    for k,p in zip(j,l):\n",
        "      next_hidden_state,output=model(k,next_hidden_state)\n",
        "      loss = criterion(output,p)\n",
        "    loss.backward()\n",
        "    optimizer.step()"
      ],
      "metadata": {
        "colab": {
          "base_uri": "https://localhost:8080/"
        },
        "id": "QRcZBIjqQ7yF",
        "outputId": "f3c44ed5-97ce-4bd2-fc2a-842aa29dea21"
      },
      "execution_count": 183,
      "outputs": [
        {
          "output_type": "stream",
          "name": "stderr",
          "text": [
            "/usr/local/lib/python3.7/dist-packages/ipykernel_launcher.py:15: UserWarning: Implicit dimension choice for softmax has been deprecated. Change the call to include dim=X as an argument.\n",
            "  from ipykernel import kernelapp as app\n",
            "/usr/local/lib/python3.7/dist-packages/torch/nn/functional.py:2748: UserWarning: reduction: 'mean' divides the total loss by both the batch size and the support size.'batchmean' divides only by the batch size, and aligns with the KL div math definition.'mean' will be changed to behave the same as 'batchmean' in the next major release.\n",
            "  \"reduction: 'mean' divides the total loss by both the batch size and the support size.\"\n"
          ]
        }
      ]
    },
    {
      "cell_type": "code",
      "source": [
        "for j,l in zip(inputdata,outputdata):\n",
        "  inital_hidden_state=torch.zeros(100,dtype=torch.float32)\n",
        "  next_hidden_state=inital_hidden_state\n",
        "  for k,p in zip(j,l):\n",
        "    next_hidden_state,output=model(k,next_hidden_state)\n",
        "    print(p)\n",
        "    print(output)"
      ],
      "metadata": {
        "colab": {
          "base_uri": "https://localhost:8080/"
        },
        "id": "7GvVCKrpRZQ5",
        "outputId": "5d522c58-826e-40f6-c934-96cdca148e83"
      },
      "execution_count": 184,
      "outputs": [
        {
          "output_type": "stream",
          "name": "stdout",
          "text": [
            "tensor([0., 1., 0., 0., 0., 0., 0., 0., 0., 0., 0., 0., 0., 0., 0., 0., 0., 0.,\n",
            "        0., 0., 0., 0., 0., 0., 0., 0.])\n",
            "tensor([0.0370, 0.0398, 0.0391, 0.0370, 0.0370, 0.0370, 0.0370, 0.0409, 0.0407,\n",
            "        0.0391, 0.0370, 0.0432, 0.0370, 0.0370, 0.0392, 0.0370, 0.0370, 0.0399,\n",
            "        0.0411, 0.0370, 0.0410, 0.0370, 0.0370, 0.0370, 0.0403, 0.0370],\n",
            "       grad_fn=<SoftmaxBackward0>)\n",
            "tensor([0., 0., 0., 0., 0., 0., 0., 1., 0., 0., 0., 0., 0., 0., 0., 0., 0., 0.,\n",
            "        0., 0., 0., 0., 0., 0., 0., 0.])\n",
            "tensor([0.0370, 0.0399, 0.0395, 0.0370, 0.0370, 0.0370, 0.0370, 0.0417, 0.0408,\n",
            "        0.0389, 0.0370, 0.0430, 0.0370, 0.0370, 0.0392, 0.0370, 0.0370, 0.0401,\n",
            "        0.0407, 0.0370, 0.0407, 0.0370, 0.0370, 0.0370, 0.0402, 0.0370],\n",
            "       grad_fn=<SoftmaxBackward0>)\n",
            "tensor([1., 0., 0., 0., 0., 0., 0., 0., 0., 0., 0., 0., 0., 0., 0., 0., 0., 0.,\n",
            "        0., 0., 0., 0., 0., 0., 0., 0.])\n",
            "tensor([0.0370, 0.0398, 0.0395, 0.0370, 0.0370, 0.0370, 0.0370, 0.0413, 0.0406,\n",
            "        0.0387, 0.0370, 0.0433, 0.0370, 0.0370, 0.0394, 0.0370, 0.0370, 0.0402,\n",
            "        0.0411, 0.0370, 0.0405, 0.0370, 0.0370, 0.0370, 0.0402, 0.0370],\n",
            "       grad_fn=<SoftmaxBackward0>)\n",
            "tensor([0., 0., 0., 0., 0., 0., 0., 0., 0., 0., 0., 0., 0., 0., 0., 0., 0., 1.,\n",
            "        0., 0., 0., 0., 0., 0., 0., 0.])\n",
            "tensor([0.0370, 0.0398, 0.0397, 0.0370, 0.0370, 0.0370, 0.0370, 0.0415, 0.0405,\n",
            "        0.0388, 0.0370, 0.0432, 0.0370, 0.0370, 0.0391, 0.0370, 0.0370, 0.0401,\n",
            "        0.0411, 0.0370, 0.0404, 0.0370, 0.0370, 0.0370, 0.0406, 0.0370],\n",
            "       grad_fn=<SoftmaxBackward0>)\n",
            "tensor([1., 0., 0., 0., 0., 0., 0., 0., 0., 0., 0., 0., 0., 0., 0., 0., 0., 0.,\n",
            "        0., 0., 0., 0., 0., 0., 0., 0.])\n",
            "tensor([0.0370, 0.0398, 0.0395, 0.0370, 0.0370, 0.0370, 0.0370, 0.0413, 0.0405,\n",
            "        0.0387, 0.0370, 0.0433, 0.0370, 0.0370, 0.0394, 0.0370, 0.0370, 0.0402,\n",
            "        0.0411, 0.0370, 0.0405, 0.0370, 0.0370, 0.0370, 0.0402, 0.0370],\n",
            "       grad_fn=<SoftmaxBackward0>)\n",
            "tensor([0., 0., 0., 0., 0., 0., 0., 0., 0., 0., 0., 0., 0., 0., 0., 0., 0., 0., 0., 0., 0., 0., 0., 0.,\n",
            "        0., 0.])\n",
            "tensor([0.0371, 0.0399, 0.0393, 0.0371, 0.0371, 0.0371, 0.0371, 0.0415, 0.0404,\n",
            "        0.0384, 0.0371, 0.0433, 0.0371, 0.0371, 0.0396, 0.0371, 0.0371, 0.0403,\n",
            "        0.0409, 0.0371, 0.0405, 0.0371, 0.0371, 0.0371, 0.0399, 0.0371],\n",
            "       grad_fn=<SoftmaxBackward0>)\n",
            "tensor([0., 1., 0., 0., 0., 0., 0., 0., 0., 0., 0., 0., 0., 0., 0., 0., 0., 0.,\n",
            "        0., 0., 0., 0., 0., 0., 0., 0.])\n",
            "tensor([0.0370, 0.0398, 0.0391, 0.0370, 0.0370, 0.0370, 0.0370, 0.0409, 0.0407,\n",
            "        0.0391, 0.0370, 0.0432, 0.0370, 0.0370, 0.0392, 0.0370, 0.0370, 0.0399,\n",
            "        0.0411, 0.0370, 0.0410, 0.0370, 0.0370, 0.0370, 0.0403, 0.0370],\n",
            "       grad_fn=<SoftmaxBackward0>)\n",
            "tensor([0., 0., 0., 0., 0., 0., 0., 1., 0., 0., 0., 0., 0., 0., 0., 0., 0., 0.,\n",
            "        0., 0., 0., 0., 0., 0., 0., 0.])\n",
            "tensor([0.0370, 0.0399, 0.0395, 0.0370, 0.0370, 0.0370, 0.0370, 0.0417, 0.0408,\n",
            "        0.0389, 0.0370, 0.0430, 0.0370, 0.0370, 0.0392, 0.0370, 0.0370, 0.0401,\n",
            "        0.0407, 0.0370, 0.0407, 0.0370, 0.0370, 0.0370, 0.0402, 0.0370],\n",
            "       grad_fn=<SoftmaxBackward0>)\n",
            "tensor([1., 0., 0., 0., 0., 0., 0., 0., 0., 0., 0., 0., 0., 0., 0., 0., 0., 0.,\n",
            "        0., 0., 0., 0., 0., 0., 0., 0.])\n",
            "tensor([0.0370, 0.0398, 0.0395, 0.0370, 0.0370, 0.0370, 0.0370, 0.0413, 0.0406,\n",
            "        0.0387, 0.0370, 0.0433, 0.0370, 0.0370, 0.0394, 0.0370, 0.0370, 0.0402,\n",
            "        0.0411, 0.0370, 0.0405, 0.0370, 0.0370, 0.0370, 0.0402, 0.0370],\n",
            "       grad_fn=<SoftmaxBackward0>)\n",
            "tensor([0., 0., 0., 0., 0., 0., 0., 0., 0., 0., 0., 1., 0., 0., 0., 0., 0., 0.,\n",
            "        0., 0., 0., 0., 0., 0., 0., 0.])\n",
            "tensor([0.0370, 0.0398, 0.0394, 0.0370, 0.0370, 0.0370, 0.0370, 0.0411, 0.0404,\n",
            "        0.0387, 0.0370, 0.0432, 0.0370, 0.0370, 0.0392, 0.0370, 0.0370, 0.0403,\n",
            "        0.0413, 0.0370, 0.0407, 0.0370, 0.0370, 0.0370, 0.0403, 0.0370],\n",
            "       grad_fn=<SoftmaxBackward0>)\n",
            "tensor([0., 0., 0., 0., 0., 0., 0., 0., 0., 0., 0., 1., 0., 0., 0., 0., 0., 0.,\n",
            "        0., 0., 0., 0., 0., 0., 0., 0.])\n",
            "tensor([0.0370, 0.0398, 0.0394, 0.0370, 0.0370, 0.0370, 0.0370, 0.0411, 0.0404,\n",
            "        0.0388, 0.0370, 0.0432, 0.0370, 0.0370, 0.0392, 0.0370, 0.0370, 0.0403,\n",
            "        0.0413, 0.0370, 0.0407, 0.0370, 0.0370, 0.0370, 0.0403, 0.0370],\n",
            "       grad_fn=<SoftmaxBackward0>)\n",
            "tensor([0., 0., 0., 0., 0., 0., 0., 0., 0., 0., 0., 0., 0., 0., 0., 0., 0., 0., 0., 0., 0., 0., 0., 0.,\n",
            "        0., 0.])\n",
            "tensor([0.0370, 0.0398, 0.0395, 0.0370, 0.0370, 0.0370, 0.0370, 0.0413, 0.0406,\n",
            "        0.0388, 0.0370, 0.0433, 0.0370, 0.0370, 0.0394, 0.0370, 0.0370, 0.0402,\n",
            "        0.0411, 0.0370, 0.0405, 0.0370, 0.0370, 0.0370, 0.0403, 0.0370],\n",
            "       grad_fn=<SoftmaxBackward0>)\n"
          ]
        },
        {
          "output_type": "stream",
          "name": "stderr",
          "text": [
            "/usr/local/lib/python3.7/dist-packages/ipykernel_launcher.py:15: UserWarning: Implicit dimension choice for softmax has been deprecated. Change the call to include dim=X as an argument.\n",
            "  from ipykernel import kernelapp as app\n"
          ]
        }
      ]
    },
    {
      "cell_type": "code",
      "source": [
        ""
      ],
      "metadata": {
        "id": "x9mJkyD3ZK6q"
      },
      "execution_count": null,
      "outputs": []
    }
  ]
}