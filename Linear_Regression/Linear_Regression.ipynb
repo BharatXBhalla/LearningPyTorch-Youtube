{
  "nbformat": 4,
  "nbformat_minor": 0,
  "metadata": {
    "colab": {
      "name": "Linear_Regression.ipynb",
      "provenance": [],
      "collapsed_sections": [],
      "authorship_tag": "ABX9TyOQ44w8gb28Iw2kxznvhcBc",
      "include_colab_link": true
    },
    "kernelspec": {
      "name": "python3",
      "display_name": "Python 3"
    },
    "language_info": {
      "name": "python"
    }
  },
  "cells": [
    {
      "cell_type": "markdown",
      "metadata": {
        "id": "view-in-github",
        "colab_type": "text"
      },
      "source": [
        "<a href=\"https://colab.research.google.com/github/BharatXBhalla/LearningPyTorch-Youtube/blob/main/Linear_Regression/Linear_Regression.ipynb\" target=\"_parent\"><img src=\"https://colab.research.google.com/assets/colab-badge.svg\" alt=\"Open In Colab\"/></a>"
      ]
    },
    {
      "cell_type": "code",
      "execution_count": 1,
      "metadata": {
        "id": "ix5FNFLifQ8b"
      },
      "outputs": [],
      "source": [
        "import torch\n",
        "import torch.nn as nn"
      ]
    },
    {
      "cell_type": "code",
      "source": [
        "import numpy as np\n",
        "from sklearn import datasets\n",
        "import matplotlib.pyplot as plt"
      ],
      "metadata": {
        "id": "ERYAi5jZfqXw"
      },
      "execution_count": 2,
      "outputs": []
    },
    {
      "cell_type": "code",
      "source": [
        "X_numpy , y_numpy =  datasets.make_regression(n_samples = 100, n_features=1,noise =20,random_state =1)"
      ],
      "metadata": {
        "id": "N1isWpZcfy78"
      },
      "execution_count": 3,
      "outputs": []
    },
    {
      "cell_type": "code",
      "source": [
        "X = torch.from_numpy(X_numpy.astype(np.float32))"
      ],
      "metadata": {
        "id": "Ym7RVA5jgA3J"
      },
      "execution_count": 5,
      "outputs": []
    },
    {
      "cell_type": "code",
      "source": [
        "y = torch.from_numpy(y_numpy.astype(np.float32))"
      ],
      "metadata": {
        "id": "rxqPdUTjgIK1"
      },
      "execution_count": 6,
      "outputs": []
    },
    {
      "cell_type": "code",
      "source": [
        "y=y.view(y.shape[0],1)"
      ],
      "metadata": {
        "id": "1wZC16Q3gQUS"
      },
      "execution_count": 13,
      "outputs": []
    },
    {
      "cell_type": "code",
      "source": [
        "n_samples,n_features=X.shape"
      ],
      "metadata": {
        "id": "8zHQYAUwgRJ9"
      },
      "execution_count": 14,
      "outputs": []
    },
    {
      "cell_type": "code",
      "source": [
        "class LinearRegression(nn.Module):\n",
        "\n",
        "  def __init__(self,input_dim,output_dim):\n",
        "    super(LinearRegression,self).__init__()\n",
        "    self.model=nn.Linear(input_dim,output_dim)\n",
        "\n",
        "  def forward(self,x):\n",
        "    return self.model(x)\n"
      ],
      "metadata": {
        "id": "oCXW3tybgs-n"
      },
      "execution_count": 34,
      "outputs": []
    },
    {
      "cell_type": "code",
      "source": [
        "model = LinearRegression(n_features,1)"
      ],
      "metadata": {
        "id": "vL4cDm6ChMYu"
      },
      "execution_count": 35,
      "outputs": []
    },
    {
      "cell_type": "code",
      "source": [
        "learningRate = 0.001\n",
        "criterion = nn.MSELoss()\n",
        "optimizer = torch.optim.SGD(model.parameters(),lr=learningRate)"
      ],
      "metadata": {
        "id": "ugu9qnu1hSkm"
      },
      "execution_count": 45,
      "outputs": []
    },
    {
      "cell_type": "code",
      "source": [
        "num_epoch=10000"
      ],
      "metadata": {
        "id": "vw8T5yhih-RN"
      },
      "execution_count": 46,
      "outputs": []
    },
    {
      "cell_type": "code",
      "source": [
        "for i in range(num_epoch):\n",
        "\n",
        "  y_pred = model(X)\n",
        "\n",
        "  l=criterion(y_pred,y)\n",
        "\n",
        "  l.backward()\n",
        "\n",
        "  optimizer.step()\n",
        "\n",
        "  optimizer.zero_grad()\n",
        "\n",
        "  if(i%100==0):\n",
        "    print(\"loss = \",l)"
      ],
      "metadata": {
        "colab": {
          "base_uri": "https://localhost:8080/"
        },
        "id": "exRdC5_XiBAX",
        "outputId": "bcdc2d15-2c66-4f50-f4f1-d71ba88189cc"
      },
      "execution_count": 47,
      "outputs": [
        {
          "output_type": "stream",
          "name": "stdout",
          "text": [
            "loss =  tensor(5787.8945, grad_fn=<MseLossBackward0>)\n",
            "loss =  tensor(1103457.5000, grad_fn=<MseLossBackward0>)\n",
            "loss =  tensor(796395.8125, grad_fn=<MseLossBackward0>)\n",
            "loss =  tensor(575594.6250, grad_fn=<MseLossBackward0>)\n",
            "loss =  tensor(416569., grad_fn=<MseLossBackward0>)\n",
            "loss =  tensor(301865.0312, grad_fn=<MseLossBackward0>)\n",
            "loss =  tensor(219014.3125, grad_fn=<MseLossBackward0>)\n",
            "loss =  tensor(159092.5781, grad_fn=<MseLossBackward0>)\n",
            "loss =  tensor(115701.1328, grad_fn=<MseLossBackward0>)\n",
            "loss =  tensor(84243.9062, grad_fn=<MseLossBackward0>)\n",
            "loss =  tensor(61414.3242, grad_fn=<MseLossBackward0>)\n",
            "loss =  tensor(44829.6719, grad_fn=<MseLossBackward0>)\n",
            "loss =  tensor(32770.7109, grad_fn=<MseLossBackward0>)\n",
            "loss =  tensor(23995.0352, grad_fn=<MseLossBackward0>)\n",
            "loss =  tensor(17603.7070, grad_fn=<MseLossBackward0>)\n",
            "loss =  tensor(12945.5342, grad_fn=<MseLossBackward0>)\n",
            "loss =  tensor(9548.2998, grad_fn=<MseLossBackward0>)\n",
            "loss =  tensor(7069.1758, grad_fn=<MseLossBackward0>)\n",
            "loss =  tensor(5259.0059, grad_fn=<MseLossBackward0>)\n",
            "loss =  tensor(3936.6184, grad_fn=<MseLossBackward0>)\n",
            "loss =  tensor(2970.1050, grad_fn=<MseLossBackward0>)\n",
            "loss =  tensor(2263.4026, grad_fn=<MseLossBackward0>)\n",
            "loss =  tensor(1746.4656, grad_fn=<MseLossBackward0>)\n",
            "loss =  tensor(1368.1996, grad_fn=<MseLossBackward0>)\n",
            "loss =  tensor(1091.3187, grad_fn=<MseLossBackward0>)\n",
            "loss =  tensor(888.5833, grad_fn=<MseLossBackward0>)\n",
            "loss =  tensor(740.0994, grad_fn=<MseLossBackward0>)\n",
            "loss =  tensor(631.3213, grad_fn=<MseLossBackward0>)\n",
            "loss =  tensor(551.6157, grad_fn=<MseLossBackward0>)\n",
            "loss =  tensor(493.1995, grad_fn=<MseLossBackward0>)\n",
            "loss =  tensor(450.3781, grad_fn=<MseLossBackward0>)\n",
            "loss =  tensor(418.9823, grad_fn=<MseLossBackward0>)\n",
            "loss =  tensor(395.9608, grad_fn=<MseLossBackward0>)\n",
            "loss =  tensor(379.0769, grad_fn=<MseLossBackward0>)\n",
            "loss =  tensor(366.6931, grad_fn=<MseLossBackward0>)\n",
            "loss =  tensor(357.6083, grad_fn=<MseLossBackward0>)\n",
            "loss =  tensor(350.9438, grad_fn=<MseLossBackward0>)\n",
            "loss =  tensor(346.0540, grad_fn=<MseLossBackward0>)\n",
            "loss =  tensor(342.4660, grad_fn=<MseLossBackward0>)\n",
            "loss =  tensor(339.8330, grad_fn=<MseLossBackward0>)\n",
            "loss =  tensor(337.9007, grad_fn=<MseLossBackward0>)\n",
            "loss =  tensor(336.4824, grad_fn=<MseLossBackward0>)\n",
            "loss =  tensor(335.4414, grad_fn=<MseLossBackward0>)\n",
            "loss =  tensor(334.6773, grad_fn=<MseLossBackward0>)\n",
            "loss =  tensor(334.1164, grad_fn=<MseLossBackward0>)\n",
            "loss =  tensor(333.7047, grad_fn=<MseLossBackward0>)\n",
            "loss =  tensor(333.4025, grad_fn=<MseLossBackward0>)\n",
            "loss =  tensor(333.1805, grad_fn=<MseLossBackward0>)\n",
            "loss =  tensor(333.0177, grad_fn=<MseLossBackward0>)\n",
            "loss =  tensor(332.8980, grad_fn=<MseLossBackward0>)\n",
            "loss =  tensor(332.8102, grad_fn=<MseLossBackward0>)\n",
            "loss =  tensor(332.7457, grad_fn=<MseLossBackward0>)\n",
            "loss =  tensor(332.6984, grad_fn=<MseLossBackward0>)\n",
            "loss =  tensor(332.6636, grad_fn=<MseLossBackward0>)\n",
            "loss =  tensor(332.6381, grad_fn=<MseLossBackward0>)\n",
            "loss =  tensor(332.6194, grad_fn=<MseLossBackward0>)\n",
            "loss =  tensor(332.6056, grad_fn=<MseLossBackward0>)\n",
            "loss =  tensor(332.5955, grad_fn=<MseLossBackward0>)\n",
            "loss =  tensor(332.5881, grad_fn=<MseLossBackward0>)\n",
            "loss =  tensor(332.5826, grad_fn=<MseLossBackward0>)\n",
            "loss =  tensor(332.5786, grad_fn=<MseLossBackward0>)\n",
            "loss =  tensor(332.5757, grad_fn=<MseLossBackward0>)\n",
            "loss =  tensor(332.5735, grad_fn=<MseLossBackward0>)\n",
            "loss =  tensor(332.5720, grad_fn=<MseLossBackward0>)\n",
            "loss =  tensor(332.5708, grad_fn=<MseLossBackward0>)\n",
            "loss =  tensor(332.5699, grad_fn=<MseLossBackward0>)\n",
            "loss =  tensor(332.5693, grad_fn=<MseLossBackward0>)\n",
            "loss =  tensor(332.5688, grad_fn=<MseLossBackward0>)\n",
            "loss =  tensor(332.5685, grad_fn=<MseLossBackward0>)\n",
            "loss =  tensor(332.5682, grad_fn=<MseLossBackward0>)\n",
            "loss =  tensor(332.5681, grad_fn=<MseLossBackward0>)\n",
            "loss =  tensor(332.5679, grad_fn=<MseLossBackward0>)\n",
            "loss =  tensor(332.5679, grad_fn=<MseLossBackward0>)\n",
            "loss =  tensor(332.5678, grad_fn=<MseLossBackward0>)\n",
            "loss =  tensor(332.5677, grad_fn=<MseLossBackward0>)\n",
            "loss =  tensor(332.5677, grad_fn=<MseLossBackward0>)\n",
            "loss =  tensor(332.5676, grad_fn=<MseLossBackward0>)\n",
            "loss =  tensor(332.5676, grad_fn=<MseLossBackward0>)\n",
            "loss =  tensor(332.5676, grad_fn=<MseLossBackward0>)\n",
            "loss =  tensor(332.5676, grad_fn=<MseLossBackward0>)\n",
            "loss =  tensor(332.5676, grad_fn=<MseLossBackward0>)\n",
            "loss =  tensor(332.5675, grad_fn=<MseLossBackward0>)\n",
            "loss =  tensor(332.5675, grad_fn=<MseLossBackward0>)\n",
            "loss =  tensor(332.5676, grad_fn=<MseLossBackward0>)\n",
            "loss =  tensor(332.5676, grad_fn=<MseLossBackward0>)\n",
            "loss =  tensor(332.5675, grad_fn=<MseLossBackward0>)\n",
            "loss =  tensor(332.5676, grad_fn=<MseLossBackward0>)\n",
            "loss =  tensor(332.5675, grad_fn=<MseLossBackward0>)\n",
            "loss =  tensor(332.5675, grad_fn=<MseLossBackward0>)\n",
            "loss =  tensor(332.5676, grad_fn=<MseLossBackward0>)\n",
            "loss =  tensor(332.5675, grad_fn=<MseLossBackward0>)\n",
            "loss =  tensor(332.5676, grad_fn=<MseLossBackward0>)\n",
            "loss =  tensor(332.5676, grad_fn=<MseLossBackward0>)\n",
            "loss =  tensor(332.5676, grad_fn=<MseLossBackward0>)\n",
            "loss =  tensor(332.5676, grad_fn=<MseLossBackward0>)\n",
            "loss =  tensor(332.5676, grad_fn=<MseLossBackward0>)\n",
            "loss =  tensor(332.5676, grad_fn=<MseLossBackward0>)\n",
            "loss =  tensor(332.5676, grad_fn=<MseLossBackward0>)\n",
            "loss =  tensor(332.5676, grad_fn=<MseLossBackward0>)\n",
            "loss =  tensor(332.5676, grad_fn=<MseLossBackward0>)\n"
          ]
        }
      ]
    },
    {
      "cell_type": "code",
      "source": [
        "y_pred = model(X).detach().numpy()"
      ],
      "metadata": {
        "id": "9u47tfg1iVtV"
      },
      "execution_count": 48,
      "outputs": []
    },
    {
      "cell_type": "code",
      "source": [
        "y_pred=y_pred.ravel()"
      ],
      "metadata": {
        "id": "5YHck6Yri8xL"
      },
      "execution_count": 49,
      "outputs": []
    },
    {
      "cell_type": "code",
      "source": [
        "plt.scatter(X_numpy,y_numpy)\n",
        "plt.plot(X_numpy,y_pred,'r')"
      ],
      "metadata": {
        "colab": {
          "base_uri": "https://localhost:8080/",
          "height": 285
        },
        "id": "QYW2fDE6jDHa",
        "outputId": "05b9cec3-e0d2-46e1-ae5b-109da7d7c792"
      },
      "execution_count": 51,
      "outputs": [
        {
          "output_type": "execute_result",
          "data": {
            "text/plain": [
              "[<matplotlib.lines.Line2D at 0x7f840049f810>]"
            ]
          },
          "metadata": {},
          "execution_count": 51
        },
        {
          "output_type": "display_data",
          "data": {
            "image/png": "[encoded data removed]",
            "text/plain": [
              "<Figure size 432x288 with 1 Axes>"
            ]
          },
          "metadata": {
            "needs_background": "light"
          }
        }
      ]
    },
    {
      "cell_type": "code",
      "source": [
        ""
      ],
      "metadata": {
        "id": "IwLOhuPHjLKw"
      },
      "execution_count": null,
      "outputs": []
    }
  ]
}